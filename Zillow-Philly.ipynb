{
 "cells": [
  {
   "cell_type": "markdown",
   "metadata": {},
   "source": [
    "# Predicting Rental Profit "
   ]
  },
  {
   "cell_type": "markdown",
   "metadata": {},
   "source": [
    "## 1. Introduction\n",
    "\n",
    "### objective : create a web app that predicts most profitable rental investment properties on the market\n",
    "This notebook demonstrates how to predict rental profit, with a subset of listings on zillow.com in the city of Philadelphia. The preliminary analysis of this small dataset showcases the feasibility of the project. The planned final product is a web application showing estimated rental profit for all active sales listing in several major cities on zillow.com, and make recommendations based on user's preference."
   ]
  },
  {
   "cell_type": "markdown",
   "metadata": {},
   "source": [
    "## 2. Packages"
   ]
  },
  {
   "cell_type": "code",
   "execution_count": 101,
   "metadata": {},
   "outputs": [],
   "source": [
    "import pandas as pd\n",
    "import numpy as np\n",
    "import matplotlib.pyplot as plt\n",
    "from sklearn.linear_model import LinearRegression\n",
    "from sklearn.model_selection import train_test_split\n",
    "from sklearn.preprocessing import StandardScaler\n",
    "from scipy import stats"
   ]
  },
  {
   "cell_type": "markdown",
   "metadata": {},
   "source": [
    "## 3. Data Collection\n",
    "\n",
    "- Write the list of zipcode in Philly into a file as preparation for scraper"
   ]
  },
  {
   "cell_type": "code",
   "execution_count": 102,
   "metadata": {},
   "outputs": [
    {
     "data": {
      "text/plain": [
       "'/Users/yundijiang/Desktop/DataIncubator/2020/Zillow_data'"
      ]
     },
     "execution_count": 102,
     "metadata": {},
     "output_type": "execute_result"
    }
   ],
   "source": [
    "pwd"
   ]
  },
  {
   "cell_type": "code",
   "execution_count": 172,
   "metadata": {},
   "outputs": [],
   "source": [
    "zip_list = []\n",
    "with open('philly_zipcode','w') as f:\n",
    "    for x in range(19102, 19155):\n",
    "        zip_list.append(x)\n",
    "        f.write(str(x)+'\\n')"
   ]
  },
  {
   "cell_type": "markdown",
   "metadata": {},
   "source": [
    "- Run scraper code to collect all data files\n",
    "- Listings in each zipcode area are in one file"
   ]
  },
  {
   "cell_type": "code",
   "execution_count": 173,
   "metadata": {},
   "outputs": [],
   "source": [
    "f_list = [line.rstrip('\\n') for line in open('Data/file_list')]\n",
    "f_list_rent = f_list[1:50]\n",
    "f_list_sale = f_list[50:]"
   ]
  },
  {
   "cell_type": "markdown",
   "metadata": {},
   "source": [
    "- Read sales data"
   ]
  },
  {
   "cell_type": "code",
   "execution_count": 258,
   "metadata": {},
   "outputs": [
    {
     "data": {
      "text/html": [
       "<div>\n",
       "<style scoped>\n",
       "    .dataframe tbody tr th:only-of-type {\n",
       "        vertical-align: middle;\n",
       "    }\n",
       "\n",
       "    .dataframe tbody tr th {\n",
       "        vertical-align: top;\n",
       "    }\n",
       "\n",
       "    .dataframe thead th {\n",
       "        text-align: right;\n",
       "    }\n",
       "</style>\n",
       "<table border=\"1\" class=\"dataframe\">\n",
       "  <thead>\n",
       "    <tr style=\"text-align: right;\">\n",
       "      <th></th>\n",
       "      <th>title</th>\n",
       "      <th>address</th>\n",
       "      <th>city</th>\n",
       "      <th>state</th>\n",
       "      <th>postal_code</th>\n",
       "      <th>price</th>\n",
       "      <th>bedroom</th>\n",
       "      <th>bathroom</th>\n",
       "      <th>area</th>\n",
       "      <th>lot_size</th>\n",
       "      <th>year_built</th>\n",
       "      <th>home_type</th>\n",
       "      <th>tax_assessed_value</th>\n",
       "      <th>url</th>\n",
       "      <th>long</th>\n",
       "      <th>lat</th>\n",
       "    </tr>\n",
       "  </thead>\n",
       "  <tbody>\n",
       "    <tr>\n",
       "      <th>0</th>\n",
       "      <td>House for sale</td>\n",
       "      <td>50 S 16th St UNIT 4604</td>\n",
       "      <td>Philadelphia</td>\n",
       "      <td>PA</td>\n",
       "      <td>19102</td>\n",
       "      <td>$11,500,000</td>\n",
       "      <td>2.0</td>\n",
       "      <td>4.0</td>\n",
       "      <td>5550.0</td>\n",
       "      <td>-1.0</td>\n",
       "      <td>2007</td>\n",
       "      <td>SINGLE_FAMILY</td>\n",
       "      <td>7800000.0</td>\n",
       "      <td>https://www.zillow.com/homedetails/50-S-16th-S...</td>\n",
       "      <td>-75.167249</td>\n",
       "      <td>39.951805</td>\n",
       "    </tr>\n",
       "    <tr>\n",
       "      <th>1</th>\n",
       "      <td>Condo for sale</td>\n",
       "      <td>111 S 15th St PENTHOUSE P310</td>\n",
       "      <td>Philadelphia</td>\n",
       "      <td>PA</td>\n",
       "      <td>19102</td>\n",
       "      <td>$549,000</td>\n",
       "      <td>2.0</td>\n",
       "      <td>2.0</td>\n",
       "      <td>1062.0</td>\n",
       "      <td>-1.0</td>\n",
       "      <td>1900</td>\n",
       "      <td>CONDO</td>\n",
       "      <td>407600.0</td>\n",
       "      <td>https://www.zillow.com/homedetails/111-S-15th-...</td>\n",
       "      <td>-75.165495</td>\n",
       "      <td>39.950653</td>\n",
       "    </tr>\n",
       "    <tr>\n",
       "      <th>2</th>\n",
       "      <td>Condo for sale</td>\n",
       "      <td>111 S 15th St APT 1705</td>\n",
       "      <td>Philadelphia</td>\n",
       "      <td>PA</td>\n",
       "      <td>19102</td>\n",
       "      <td>$287,000</td>\n",
       "      <td>1.0</td>\n",
       "      <td>1.0</td>\n",
       "      <td>798.0</td>\n",
       "      <td>-1.0</td>\n",
       "      <td>1900</td>\n",
       "      <td>CONDO</td>\n",
       "      <td>295100.0</td>\n",
       "      <td>https://www.zillow.com/homedetails/111-S-15th-...</td>\n",
       "      <td>-75.165495</td>\n",
       "      <td>39.950653</td>\n",
       "    </tr>\n",
       "  </tbody>\n",
       "</table>\n",
       "</div>"
      ],
      "text/plain": [
       "            title                       address          city state  \\\n",
       "0  House for sale        50 S 16th St UNIT 4604  Philadelphia    PA   \n",
       "1  Condo for sale  111 S 15th St PENTHOUSE P310  Philadelphia    PA   \n",
       "2  Condo for sale        111 S 15th St APT 1705  Philadelphia    PA   \n",
       "\n",
       "   postal_code        price  bedroom  bathroom    area  lot_size  year_built  \\\n",
       "0        19102  $11,500,000      2.0       4.0  5550.0      -1.0        2007   \n",
       "1        19102     $549,000      2.0       2.0  1062.0      -1.0        1900   \n",
       "2        19102     $287,000      1.0       1.0   798.0      -1.0        1900   \n",
       "\n",
       "       home_type  tax_assessed_value  \\\n",
       "0  SINGLE_FAMILY           7800000.0   \n",
       "1          CONDO            407600.0   \n",
       "2          CONDO            295100.0   \n",
       "\n",
       "                                                 url       long        lat  \n",
       "0  https://www.zillow.com/homedetails/50-S-16th-S... -75.167249  39.951805  \n",
       "1  https://www.zillow.com/homedetails/111-S-15th-... -75.165495  39.950653  \n",
       "2  https://www.zillow.com/homedetails/111-S-15th-... -75.165495  39.950653  "
      ]
     },
     "execution_count": 258,
     "metadata": {},
     "output_type": "execute_result"
    }
   ],
   "source": [
    "df_from_each_file_sale = (pd.read_csv('Data/'+str(i)) for i in f_list_sale)\n",
    "sale_data = pd.concat(df_from_each_file_sale, ignore_index=True)\n",
    "sale_data.head(3)"
   ]
  },
  {
   "cell_type": "code",
   "execution_count": 232,
   "metadata": {},
   "outputs": [
    {
     "data": {
      "text/html": [
       "<div>\n",
       "<style scoped>\n",
       "    .dataframe tbody tr th:only-of-type {\n",
       "        vertical-align: middle;\n",
       "    }\n",
       "\n",
       "    .dataframe tbody tr th {\n",
       "        vertical-align: top;\n",
       "    }\n",
       "\n",
       "    .dataframe thead th {\n",
       "        text-align: right;\n",
       "    }\n",
       "</style>\n",
       "<table border=\"1\" class=\"dataframe\">\n",
       "  <thead>\n",
       "    <tr style=\"text-align: right;\">\n",
       "      <th></th>\n",
       "      <th>title</th>\n",
       "      <th>address</th>\n",
       "      <th>city</th>\n",
       "      <th>state</th>\n",
       "      <th>postal_code</th>\n",
       "      <th>price</th>\n",
       "      <th>bedroom</th>\n",
       "      <th>bathroom</th>\n",
       "      <th>area</th>\n",
       "      <th>year_built</th>\n",
       "      <th>lot_size</th>\n",
       "      <th>home_type</th>\n",
       "      <th>url</th>\n",
       "      <th>long</th>\n",
       "      <th>lat</th>\n",
       "    </tr>\n",
       "  </thead>\n",
       "  <tbody>\n",
       "    <tr>\n",
       "      <th>0</th>\n",
       "      <td>Apartment for rent</td>\n",
       "      <td>326 S 16th St APT 1R</td>\n",
       "      <td>Philadelphia</td>\n",
       "      <td>PA</td>\n",
       "      <td>19102</td>\n",
       "      <td>$1,692/mo</td>\n",
       "      <td>1.0</td>\n",
       "      <td>1.0</td>\n",
       "      <td>700.0</td>\n",
       "      <td>-1</td>\n",
       "      <td>-1.0</td>\n",
       "      <td>APARTMENT</td>\n",
       "      <td>https://www.zillow.com/homedetails/326-S-16th-...</td>\n",
       "      <td>-75.168405</td>\n",
       "      <td>39.946715</td>\n",
       "    </tr>\n",
       "    <tr>\n",
       "      <th>1</th>\n",
       "      <td>Apartment for rent</td>\n",
       "      <td>1518 Pine St APT 1R</td>\n",
       "      <td>Philadelphia</td>\n",
       "      <td>PA</td>\n",
       "      <td>19102</td>\n",
       "      <td>$1,475/mo</td>\n",
       "      <td>1.0</td>\n",
       "      <td>1.0</td>\n",
       "      <td>500.0</td>\n",
       "      <td>1900</td>\n",
       "      <td>-1.0</td>\n",
       "      <td>APARTMENT</td>\n",
       "      <td>https://www.zillow.com/homedetails/1518-Pine-S...</td>\n",
       "      <td>-75.167590</td>\n",
       "      <td>39.945608</td>\n",
       "    </tr>\n",
       "    <tr>\n",
       "      <th>2</th>\n",
       "      <td>Apartment for rent</td>\n",
       "      <td>1414 S Penn Sq #18X</td>\n",
       "      <td>Philadelphia</td>\n",
       "      <td>PA</td>\n",
       "      <td>19102</td>\n",
       "      <td>$7,995/mo</td>\n",
       "      <td>3.0</td>\n",
       "      <td>3.5</td>\n",
       "      <td>2046.0</td>\n",
       "      <td>-1</td>\n",
       "      <td>-1.0</td>\n",
       "      <td>APARTMENT</td>\n",
       "      <td>https://www.zillow.com/homedetails/1414-S-Penn...</td>\n",
       "      <td>-75.164920</td>\n",
       "      <td>39.951482</td>\n",
       "    </tr>\n",
       "  </tbody>\n",
       "</table>\n",
       "</div>"
      ],
      "text/plain": [
       "                title               address          city state  postal_code  \\\n",
       "0  Apartment for rent  326 S 16th St APT 1R  Philadelphia    PA        19102   \n",
       "1  Apartment for rent   1518 Pine St APT 1R  Philadelphia    PA        19102   \n",
       "2  Apartment for rent   1414 S Penn Sq #18X  Philadelphia    PA        19102   \n",
       "\n",
       "       price  bedroom  bathroom    area  year_built  lot_size  home_type  \\\n",
       "0  $1,692/mo      1.0       1.0   700.0          -1      -1.0  APARTMENT   \n",
       "1  $1,475/mo      1.0       1.0   500.0        1900      -1.0  APARTMENT   \n",
       "2  $7,995/mo      3.0       3.5  2046.0          -1      -1.0  APARTMENT   \n",
       "\n",
       "                                                 url       long        lat  \n",
       "0  https://www.zillow.com/homedetails/326-S-16th-... -75.168405  39.946715  \n",
       "1  https://www.zillow.com/homedetails/1518-Pine-S... -75.167590  39.945608  \n",
       "2  https://www.zillow.com/homedetails/1414-S-Penn... -75.164920  39.951482  "
      ]
     },
     "execution_count": 232,
     "metadata": {},
     "output_type": "execute_result"
    }
   ],
   "source": [
    "df_from_each_file_rent = (pd.read_csv('Data/'+str(i)) for i in f_list_rent)\n",
    "rent_data = pd.concat(df_from_each_file_rent, ignore_index=True)\n",
    "rent_data = rent_data.dropna(subset = ['price'])\n",
    "rent_data.head(3)"
   ]
  },
  {
   "cell_type": "code",
   "execution_count": 259,
   "metadata": {},
   "outputs": [],
   "source": [
    "rent_data = rent_data[rent_data['state']=='PA']\n",
    "sale_data= sale_data[sale_data['state']=='PA']"
   ]
  },
  {
   "cell_type": "code",
   "execution_count": 246,
   "metadata": {},
   "outputs": [
    {
     "data": {
      "text/plain": [
       "((1142, 15), (1864, 16))"
      ]
     },
     "execution_count": 246,
     "metadata": {},
     "output_type": "execute_result"
    }
   ],
   "source": [
    "rent_data.shape, sale_data.shape"
   ]
  },
  {
   "cell_type": "markdown",
   "metadata": {},
   "source": [
    "## 4. Data Preprocessing\n"
   ]
  },
  {
   "cell_type": "markdown",
   "metadata": {},
   "source": [
    "- Rental Listings are used for building a predictive model\n",
    "- Rental listings that are off market are dropped\n",
    "- Missing values in the features: bedroom, bathroom, area, and year are filled with median, and the missing lot_size is filled with area"
   ]
  },
  {
   "cell_type": "code",
   "execution_count": 109,
   "metadata": {},
   "outputs": [],
   "source": [
    "rent_data_area = rent_data[~rent_data['area'].isnull()]"
   ]
  },
  {
   "cell_type": "code",
   "execution_count": 110,
   "metadata": {},
   "outputs": [],
   "source": [
    "area = rent_data_area['area'].to_numpy().reshape(-1,1)\n",
    "bed = rent_data_area['bedroom'].to_numpy()\n",
    "bath = rent_data_area['bathroom'].to_numpy()\n",
    "bath[np.isnan(bath)]= 0\n",
    "bb = np.concatenate((bed.reshape(-1,1), bath.reshape(-1,1)),axis=1)\n"
   ]
  },
  {
   "cell_type": "code",
   "execution_count": 111,
   "metadata": {},
   "outputs": [
    {
     "data": {
      "image/png": "[encoded data removed]",
      "text/plain": [
       "<Figure size 432x288 with 1 Axes>"
      ]
     },
     "metadata": {
      "needs_background": "light"
     },
     "output_type": "display_data"
    }
   ],
   "source": [
    "plt.hist(area,30,(0,5000))\n",
    "plt.show()"
   ]
  },
  {
   "cell_type": "markdown",
   "metadata": {},
   "source": [
    "Let's first check how many missing values there are in the dataset"
   ]
  },
  {
   "cell_type": "markdown",
   "metadata": {},
   "source": [
    "### Impute Missing Data\n",
    "\n",
    "- get rid of the 'Off market' listings\n",
    "- number of bathrooms is imputed with 0\n",
    "- There are ~15% area info missing, as we can intuitively think that how spacious the place is would be important to predicting the rent price, we need to impute this feature rationally instead of simply using mean or median\n",
    "- I built a simple linear model to predict area based on number of bedroom and bathroom, and use this to estimate the area\n",
    "- The year built has lots of '-1' entries, which is also essentially missing. I currently imputed this feature using the median, however, as a fine tuning step, I plan to impute this entry using the median of listings in the same zipcode area"
   ]
  },
  {
   "cell_type": "code",
   "execution_count": 112,
   "metadata": {},
   "outputs": [],
   "source": [
    "rent_data = rent_data[~rent_data['title'].str.contains('Off market')]\n",
    "rent_data['bathroom'] = rent_data['bathroom'].fillna(1)\n",
    "rent_data['area'].fillna(513+160*rent_data['bedroom']+220*rent_data['bathroom'],inplace=True)\n",
    "rent_data['lot_size'] = rent_data['lot_size'].fillna((rent_data['area']))\n",
    "rent_select = rent_data[['bedroom', 'bathroom', 'area','postal_code','year_built','home_type','price']]"
   ]
  },
  {
   "cell_type": "markdown",
   "metadata": {},
   "source": [
    "- zipcode and home type are one-hot encoded\n",
    "- \"drop_first\" was turned on to avoid multicolineararity in among the features"
   ]
  },
  {
   "cell_type": "code",
   "execution_count": 113,
   "metadata": {},
   "outputs": [
    {
     "data": {
      "text/plain": [
       "0"
      ]
     },
     "execution_count": 113,
     "metadata": {},
     "output_type": "execute_result"
    }
   ],
   "source": [
    "rent_data.isnull().sum().sum()"
   ]
  },
  {
   "cell_type": "code",
   "execution_count": 114,
   "metadata": {},
   "outputs": [],
   "source": [
    "zip_dummy = pd.get_dummies(rent_select['postal_code'],drop_first=True)\n",
    "home_type_dummy = pd.get_dummies(rent_select['home_type'],drop_first=True)\n",
    "X_rent = pd.concat([rent_select, zip_dummy, home_type_dummy], axis=1)\n",
    "X_rent = X_rent.drop(columns = ['home_type','postal_code'])"
   ]
  },
  {
   "cell_type": "markdown",
   "metadata": {},
   "source": [
    "- year built feature shows -1 when the data is missing from the website, this can introduce bias\n",
    "- replace the -1 value with median (further improvement, impute with median based on zipcode)"
   ]
  },
  {
   "cell_type": "code",
   "execution_count": 115,
   "metadata": {},
   "outputs": [
    {
     "name": "stderr",
     "output_type": "stream",
     "text": [
      "/opt/anaconda3/lib/python3.7/site-packages/ipykernel_launcher.py:2: SettingWithCopyWarning: \n",
      "A value is trying to be set on a copy of a slice from a DataFrame\n",
      "\n",
      "See the caveats in the documentation: https://pandas.pydata.org/pandas-docs/stable/user_guide/indexing.html#returning-a-view-versus-a-copy\n",
      "  \n"
     ]
    }
   ],
   "source": [
    "median_year = np.median(X_rent['year_built'][X_rent['year_built']>-1])\n",
    "X_rent['year_built'][X_rent['year_built']<0] = median_year"
   ]
  },
  {
   "cell_type": "code",
   "execution_count": 116,
   "metadata": {},
   "outputs": [
    {
     "data": {
      "text/html": [
       "<div>\n",
       "<style scoped>\n",
       "    .dataframe tbody tr th:only-of-type {\n",
       "        vertical-align: middle;\n",
       "    }\n",
       "\n",
       "    .dataframe tbody tr th {\n",
       "        vertical-align: top;\n",
       "    }\n",
       "\n",
       "    .dataframe thead th {\n",
       "        text-align: right;\n",
       "    }\n",
       "</style>\n",
       "<table border=\"1\" class=\"dataframe\">\n",
       "  <thead>\n",
       "    <tr style=\"text-align: right;\">\n",
       "      <th></th>\n",
       "      <th>bedroom</th>\n",
       "      <th>bathroom</th>\n",
       "      <th>area</th>\n",
       "      <th>year_built</th>\n",
       "      <th>price</th>\n",
       "      <th>19103</th>\n",
       "      <th>19104</th>\n",
       "      <th>19106</th>\n",
       "      <th>19107</th>\n",
       "      <th>19111</th>\n",
       "      <th>...</th>\n",
       "      <th>19149</th>\n",
       "      <th>19150</th>\n",
       "      <th>19151</th>\n",
       "      <th>19152</th>\n",
       "      <th>19153</th>\n",
       "      <th>19154</th>\n",
       "      <th>CONDO</th>\n",
       "      <th>MULTI_FAMILY</th>\n",
       "      <th>SINGLE_FAMILY</th>\n",
       "      <th>TOWNHOUSE</th>\n",
       "    </tr>\n",
       "  </thead>\n",
       "  <tbody>\n",
       "    <tr>\n",
       "      <th>0</th>\n",
       "      <td>1.0</td>\n",
       "      <td>1.0</td>\n",
       "      <td>700.0</td>\n",
       "      <td>1929</td>\n",
       "      <td>$1,692/mo</td>\n",
       "      <td>0</td>\n",
       "      <td>0</td>\n",
       "      <td>0</td>\n",
       "      <td>0</td>\n",
       "      <td>0</td>\n",
       "      <td>...</td>\n",
       "      <td>0</td>\n",
       "      <td>0</td>\n",
       "      <td>0</td>\n",
       "      <td>0</td>\n",
       "      <td>0</td>\n",
       "      <td>0</td>\n",
       "      <td>0</td>\n",
       "      <td>0</td>\n",
       "      <td>0</td>\n",
       "      <td>0</td>\n",
       "    </tr>\n",
       "    <tr>\n",
       "      <th>1</th>\n",
       "      <td>1.0</td>\n",
       "      <td>1.0</td>\n",
       "      <td>500.0</td>\n",
       "      <td>1900</td>\n",
       "      <td>$1,475/mo</td>\n",
       "      <td>0</td>\n",
       "      <td>0</td>\n",
       "      <td>0</td>\n",
       "      <td>0</td>\n",
       "      <td>0</td>\n",
       "      <td>...</td>\n",
       "      <td>0</td>\n",
       "      <td>0</td>\n",
       "      <td>0</td>\n",
       "      <td>0</td>\n",
       "      <td>0</td>\n",
       "      <td>0</td>\n",
       "      <td>0</td>\n",
       "      <td>0</td>\n",
       "      <td>0</td>\n",
       "      <td>0</td>\n",
       "    </tr>\n",
       "    <tr>\n",
       "      <th>2</th>\n",
       "      <td>3.0</td>\n",
       "      <td>3.5</td>\n",
       "      <td>2046.0</td>\n",
       "      <td>1929</td>\n",
       "      <td>$7,995/mo</td>\n",
       "      <td>0</td>\n",
       "      <td>0</td>\n",
       "      <td>0</td>\n",
       "      <td>0</td>\n",
       "      <td>0</td>\n",
       "      <td>...</td>\n",
       "      <td>0</td>\n",
       "      <td>0</td>\n",
       "      <td>0</td>\n",
       "      <td>0</td>\n",
       "      <td>0</td>\n",
       "      <td>0</td>\n",
       "      <td>0</td>\n",
       "      <td>0</td>\n",
       "      <td>0</td>\n",
       "      <td>0</td>\n",
       "    </tr>\n",
       "  </tbody>\n",
       "</table>\n",
       "<p>3 rows × 54 columns</p>\n",
       "</div>"
      ],
      "text/plain": [
       "   bedroom  bathroom    area  year_built      price  19103  19104  19106  \\\n",
       "0      1.0       1.0   700.0        1929  $1,692/mo      0      0      0   \n",
       "1      1.0       1.0   500.0        1900  $1,475/mo      0      0      0   \n",
       "2      3.0       3.5  2046.0        1929  $7,995/mo      0      0      0   \n",
       "\n",
       "   19107  19111  ...  19149  19150  19151  19152  19153  19154  CONDO  \\\n",
       "0      0      0  ...      0      0      0      0      0      0      0   \n",
       "1      0      0  ...      0      0      0      0      0      0      0   \n",
       "2      0      0  ...      0      0      0      0      0      0      0   \n",
       "\n",
       "   MULTI_FAMILY  SINGLE_FAMILY  TOWNHOUSE  \n",
       "0             0              0          0  \n",
       "1             0              0          0  \n",
       "2             0              0          0  \n",
       "\n",
       "[3 rows x 54 columns]"
      ]
     },
     "execution_count": 116,
     "metadata": {},
     "output_type": "execute_result"
    }
   ],
   "source": [
    "X_rent.head(3)"
   ]
  },
  {
   "cell_type": "code",
   "execution_count": 117,
   "metadata": {},
   "outputs": [
    {
     "data": {
      "text/plain": [
       "<matplotlib.axes._subplots.AxesSubplot at 0x1a277f7990>"
      ]
     },
     "execution_count": 117,
     "metadata": {},
     "output_type": "execute_result"
    },
    {
     "data": {
      "image/png": "[encoded data removed]",
      "text/plain": [
       "<Figure size 432x288 with 1 Axes>"
      ]
     },
     "metadata": {
      "needs_background": "light"
     },
     "output_type": "display_data"
    }
   ],
   "source": [
    "X_rent['area'].hist(range=(0,4000))"
   ]
  },
  {
   "cell_type": "markdown",
   "metadata": {},
   "source": [
    "- Prepare the target variable,price"
   ]
  },
  {
   "cell_type": "code",
   "execution_count": 118,
   "metadata": {},
   "outputs": [],
   "source": [
    "y_rent = X_rent['price'].apply(lambda x: int(x.strip('$+/mo').replace(',','')))\n",
    "y_rent = y_rent.values\n",
    "X_rent = X_rent.drop(columns = 'price')\n",
    "X = X_rent.values\n",
    "y = y_rent"
   ]
  },
  {
   "cell_type": "code",
   "execution_count": 119,
   "metadata": {},
   "outputs": [
    {
     "data": {
      "image/png": "[encoded data removed]",
      "text/plain": [
       "<Figure size 400x400 with 1 Axes>"
      ]
     },
     "metadata": {
      "needs_background": "light"
     },
     "output_type": "display_data"
    }
   ],
   "source": [
    "plt.figure(figsize=(4,4), dpi=100)\n",
    "plt.hist(y_rent,30)\n",
    "plt.xlim([0,6000])\n",
    "plt.title('rent distribution')\n",
    "plt.show()"
   ]
  },
  {
   "cell_type": "markdown",
   "metadata": {},
   "source": [
    "- The target variable, rent, seems to be rather skewed \n",
    "- Machine learning models tend to have problems predicting non-normal distributions\n",
    "- We therefore transform the target variable for better model performance\n",
    "- We also get rid of outliers "
   ]
  },
  {
   "cell_type": "code",
   "execution_count": 120,
   "metadata": {},
   "outputs": [
    {
     "data": {
      "image/png": "[encoded data removed]",
      "text/plain": [
       "<Figure size 400x400 with 1 Axes>"
      ]
     },
     "metadata": {
      "needs_background": "light"
     },
     "output_type": "display_data"
    },
    {
     "data": {
      "text/plain": [
       "((array([-3.22960979, -2.96683164, -2.82034652, ...,  2.82034652,\n",
       "          2.96683164,  3.22960979]),\n",
       "  array([6.04025471, 6.2146081 , 6.2146081 , ..., 8.35467426, 8.37793112,\n",
       "         8.56598336])),\n",
       " (0.38977215546905164, 7.190065818150888, 0.9916391109807006))"
      ]
     },
     "execution_count": 120,
     "metadata": {},
     "output_type": "execute_result"
    },
    {
     "data": {
      "image/png": "[encoded data removed]",
      "text/plain": [
       "<Figure size 432x288 with 1 Axes>"
      ]
     },
     "metadata": {
      "needs_background": "light"
     },
     "output_type": "display_data"
    }
   ],
   "source": [
    "log_y_rent = np.log(y_rent)\n",
    "mask = np.logical_and(log_y_rent >= 6 , log_y_rent <=8.9)\n",
    "plt.figure(figsize=(4,4), dpi=100)\n",
    "plt.hist(log_y_rent[mask],20)\n",
    "#plt.xlim([0,6000])\n",
    "plt.title('log-rent distribution')\n",
    "plt.show()\n",
    "fig = plt.figure()\n",
    "stats.probplot(log_y_rent[mask], plot=plt)"
   ]
  },
  {
   "cell_type": "markdown",
   "metadata": {},
   "source": [
    "- Split the data into train and test set for model building"
   ]
  },
  {
   "cell_type": "code",
   "execution_count": 121,
   "metadata": {},
   "outputs": [],
   "source": [
    "X_train, X_test, y_train, y_test = train_test_split(X[mask,:], log_y_rent[mask],test_size=0.2, random_state=42)"
   ]
  },
  {
   "cell_type": "markdown",
   "metadata": {},
   "source": [
    "## 5. Modelling"
   ]
  },
  {
   "cell_type": "markdown",
   "metadata": {},
   "source": [
    "### 5.1 Linear Models"
   ]
  },
  {
   "cell_type": "code",
   "execution_count": 122,
   "metadata": {},
   "outputs": [],
   "source": [
    "import sklearn.metrics as metrics\n",
    "from sklearn.linear_model import LinearRegression\n",
    "from sklearn.linear_model import Ridge\n",
    "from sklearn.linear_model import Lasso"
   ]
  },
  {
   "cell_type": "markdown",
   "metadata": {},
   "source": [
    "#### 5.1.1 Linear Regression"
   ]
  },
  {
   "cell_type": "code",
   "execution_count": 123,
   "metadata": {},
   "outputs": [
    {
     "name": "stdout",
     "output_type": "stream",
     "text": [
      "In sample R^2 is 0.732876109740819\n",
      "Out of sample R^2 is 0.6773201748702786\n"
     ]
    }
   ],
   "source": [
    "lm = LinearRegression()\n",
    "lm.fit(X_train, y_train)\n",
    "y_train_pred = lm.predict(X_train)\n",
    "y_test_pred = lm.predict(X_test)\n",
    "print('In sample R^2 is {}'.format(metrics.r2_score(y_train, y_train_pred)))\n",
    "print('Out of sample R^2 is {}'.format(metrics.r2_score(y_test, y_test_pred)))"
   ]
  },
  {
   "cell_type": "code",
   "execution_count": null,
   "metadata": {},
   "outputs": [],
   "source": []
  },
  {
   "cell_type": "code",
   "execution_count": 434,
   "metadata": {},
   "outputs": [
    {
     "data": {
      "image/png": "[encoded data removed]",
      "text/plain": [
       "<Figure size 1440x360 with 1 Axes>"
      ]
     },
     "metadata": {
      "needs_background": "light"
     },
     "output_type": "display_data"
    }
   ],
   "source": [
    "labels = X_rent.columns.to_list()\n",
    "ticks = range(len(labels))\n",
    "plt.figure(figsize=(20,5))\n",
    "plt.bar(range(len(lm.coef_)),lm.coef_)\n",
    "plt.xticks(ticks = ticks,labels = labels, rotation=90)\n",
    "plt.show()"
   ]
  },
  {
   "cell_type": "markdown",
   "metadata": {},
   "source": [
    "#### 5.1.2 Ridge Regression"
   ]
  },
  {
   "cell_type": "code",
   "execution_count": 125,
   "metadata": {},
   "outputs": [
    {
     "name": "stdout",
     "output_type": "stream",
     "text": [
      "alpha 1e-07 0.6773201741089439\n",
      "alpha 1e-06 0.6773201672569433\n",
      "alpha 1e-05 0.6773200987296715\n",
      "alpha 0.0001 0.6773194127310525\n",
      "alpha 0.001 0.6773124807085014\n",
      "alpha 0.01 0.6772364838048506\n",
      "alpha 0.1 0.6761500356551914\n",
      "alpha 1 0.6702792814608292\n"
     ]
    }
   ],
   "source": [
    "for alpha in [1e-7, 1e-6, 1e-5, 0.0001, 0.001, 0.01, 0.1, 1]:\n",
    "    ridge = Ridge(alpha = alpha)\n",
    "    ridge.fit(X_train, y_train)\n",
    "    y_train_pred_ridge = ridge.predict(X_train)\n",
    "    y_test_pred_ridge = ridge.predict(X_test)\n",
    "    print('alpha', alpha, metrics.r2_score(y_test, y_test_pred_ridge))"
   ]
  },
  {
   "cell_type": "code",
   "execution_count": 126,
   "metadata": {},
   "outputs": [
    {
     "name": "stdout",
     "output_type": "stream",
     "text": [
      "In sample R^2 is 0.7328761081002593\n",
      "Out of sample R^2 is 0.6773194127310525\n"
     ]
    }
   ],
   "source": [
    "ridge = Ridge(alpha = 1e-4)\n",
    "ridge.fit(X_train, y_train)\n",
    "y_train_pred_ridge = ridge.predict(X_train)\n",
    "y_test_pred_ridge = ridge.predict(X_test)\n",
    "print('In sample R^2 is {}'.format(metrics.r2_score(y_train, y_train_pred_ridge)))\n",
    "print('Out of sample R^2 is {}'.format(metrics.r2_score(y_test, y_test_pred_ridge)))"
   ]
  },
  {
   "cell_type": "code",
   "execution_count": 418,
   "metadata": {},
   "outputs": [
    {
     "name": "stdout",
     "output_type": "stream",
     "text": [
      "MAE is  258.6007960623093\n"
     ]
    }
   ],
   "source": [
    "from sklearn.metrics import mean_squared_error\n",
    "print('MAE is ', abs(np.exp(y_test_pred_ridge)-np.exp(y_test)).mean())"
   ]
  },
  {
   "cell_type": "code",
   "execution_count": 424,
   "metadata": {},
   "outputs": [
    {
     "data": {
      "image/png": "[encoded data removed]",
      "text/plain": [
       "<Figure size 1440x360 with 1 Axes>"
      ]
     },
     "metadata": {
      "needs_background": "light"
     },
     "output_type": "display_data"
    }
   ],
   "source": [
    "#labels = list(reversed(X_rent.columns.to_list()))\n",
    "labels = X_rent.columns.to_list()\n",
    "ticks = range(len(labels))\n",
    "plt.figure(figsize=(20,5))\n",
    "plt.bar(range(len(ridge.coef_)),ridge.coef_)\n",
    "plt.xticks(ticks = ticks,labels = labels,rotation=90)\n",
    "plt.show()"
   ]
  },
  {
   "cell_type": "markdown",
   "metadata": {},
   "source": [
    "#### 5.1.2  LASSO Regression"
   ]
  },
  {
   "cell_type": "code",
   "execution_count": 128,
   "metadata": {},
   "outputs": [
    {
     "name": "stdout",
     "output_type": "stream",
     "text": [
      "alpha 1e-09 0.6773201545646133\n",
      "alpha 1e-08 0.6773199717680776\n",
      "alpha 1e-07 0.677318139254229\n",
      "alpha 1e-06 0.6772993595727638\n",
      "alpha 1e-05 0.677068027831096\n",
      "alpha 0.0001 0.6741287589650036\n",
      "alpha 0.001 0.6602600064768498\n",
      "alpha 0.01 0.4428049613889389\n",
      "alpha 0.1 0.2667608627056669\n",
      "alpha 1 0.12905245801193999\n",
      "alpha 10 0.09982722589636606\n"
     ]
    }
   ],
   "source": [
    "for alpha in [1e-9,1e-8,1e-7, 1e-6,1e-5,1e-4, 1e-3, 0.01, 0.1, 1,10]:\n",
    "    lasso = Lasso(alpha = alpha)\n",
    "    lasso.fit(X_train, y_train)\n",
    "    y_train_pred_lasso = lasso.predict(X_train)\n",
    "    y_test_pred_lasso = lasso.predict(X_test)\n",
    "    print('alpha', alpha, metrics.r2_score(y_test, y_test_pred_lasso))"
   ]
  },
  {
   "cell_type": "code",
   "execution_count": 129,
   "metadata": {},
   "outputs": [
    {
     "name": "stdout",
     "output_type": "stream",
     "text": [
      "In sample R^2 is 0.7293372447993466\n",
      "Out of sample R^2 is 0.6741287589650036\n"
     ]
    }
   ],
   "source": [
    "lasso = Lasso(alpha=1e-4)\n",
    "lasso.fit(X_train, y_train)\n",
    "y_train_pred_lasso = lasso.predict(X_train)\n",
    "y_test_pred_lasso = lasso.predict(X_test)\n",
    "print('In sample R^2 is {}'.format(metrics.r2_score(y_train, y_train_pred_lasso)))\n",
    "print('Out of sample R^2 is {}'.format(metrics.r2_score(y_test, y_test_pred_lasso)))"
   ]
  },
  {
   "cell_type": "code",
   "execution_count": 130,
   "metadata": {},
   "outputs": [
    {
     "data": {
      "image/png": "[encoded data removed]",
      "text/plain": [
       "<Figure size 400x400 with 1 Axes>"
      ]
     },
     "metadata": {
      "needs_background": "light"
     },
     "output_type": "display_data"
    }
   ],
   "source": [
    "plt.figure(figsize=(4,4), dpi=100)\n",
    "plt.scatter(y_test,y_test_pred_ridge, s = 10)\n",
    "#plt.xlim([0,5000])\n",
    "#plt.ylim([0,5000])\n",
    "plt.xlabel('log-Listed rental price')\n",
    "plt.ylabel('log-Ridge regression predicted rental price')\n",
    "plt.show()"
   ]
  },
  {
   "cell_type": "markdown",
   "metadata": {},
   "source": [
    "### 5.2 Nonlinear Models"
   ]
  },
  {
   "cell_type": "markdown",
   "metadata": {},
   "source": [
    "#### 5.2.1 Tree based model"
   ]
  },
  {
   "cell_type": "code",
   "execution_count": 131,
   "metadata": {},
   "outputs": [],
   "source": [
    "from sklearn.ensemble import RandomForestRegressor"
   ]
  },
  {
   "cell_type": "code",
   "execution_count": 132,
   "metadata": {},
   "outputs": [],
   "source": [
    "RF = RandomForestRegressor(n_estimators=30)"
   ]
  },
  {
   "cell_type": "code",
   "execution_count": 133,
   "metadata": {},
   "outputs": [
    {
     "name": "stdout",
     "output_type": "stream",
     "text": [
      "In sample R^2 is 0.9399762154197608\n",
      "Out of sample R^2 is 0.5651042759769993\n"
     ]
    }
   ],
   "source": [
    "RF.fit(X_train, y_train)\n",
    "y_test_pred_RF = RF.predict(X_test)\n",
    "y_train_pred_RF = RF.predict(X_train)\n",
    "print('In sample R^2 is {}'.format(metrics.r2_score(y_train, y_train_pred_RF)))\n",
    "print('Out of sample R^2 is {}'.format(metrics.r2_score(y_test, y_test_pred_RF)))"
   ]
  },
  {
   "cell_type": "code",
   "execution_count": 134,
   "metadata": {},
   "outputs": [
    {
     "data": {
      "image/png": "[encoded data removed]",
      "text/plain": [
       "<Figure size 400x400 with 1 Axes>"
      ]
     },
     "metadata": {
      "needs_background": "light"
     },
     "output_type": "display_data"
    }
   ],
   "source": [
    "plt.figure(figsize=(4,4), dpi=100)\n",
    "plt.scatter(y_test_pred_RF, y_test,s=10)\n",
    "#plt.xlim([0,5000])\n",
    "#plt.ylim([0,5000])\n",
    "plt.xlabel('log-Listed rental price')\n",
    "plt.ylabel('log-Random Forest predicted rental price')\n",
    "plt.show()"
   ]
  },
  {
   "cell_type": "code",
   "execution_count": 407,
   "metadata": {},
   "outputs": [
    {
     "name": "stdout",
     "output_type": "stream",
     "text": [
      "In sample R^2 is 0.9574897001025985\n",
      "Out of sample R^2 is 0.6431905025821316\n"
     ]
    }
   ],
   "source": [
    "from sklearn.ensemble import GradientBoostingRegressor\n",
    "GB = GradientBoostingRegressor(max_depth=8)\n",
    "GB.fit(X_train, y_train)\n",
    "y_test_pred_GB = GB.predict(X_test)\n",
    "y_train_pred_GB = GB.predict(X_train)\n",
    "print('In sample R^2 is {}'.format(metrics.r2_score(y_train, y_train_pred_GB)))\n",
    "print('Out of sample R^2 is {}'.format(metrics.r2_score(y_test, y_test_pred_GB)))\n"
   ]
  },
  {
   "cell_type": "code",
   "execution_count": 408,
   "metadata": {},
   "outputs": [
    {
     "data": {
      "image/png": "[encoded data removed]",
      "text/plain": [
       "<Figure size 400x400 with 1 Axes>"
      ]
     },
     "metadata": {
      "needs_background": "light"
     },
     "output_type": "display_data"
    }
   ],
   "source": [
    "plt.figure(figsize=(4,4), dpi=100)\n",
    "plt.scatter(y_test_pred_RF, y_test,s=10)\n",
    "#plt.xlim([0,5000])\n",
    "#plt.ylim([0,5000])\n",
    "plt.xlabel('log-Listed rental price')\n",
    "plt.ylabel('log-Random Forest predicted rental price')\n",
    "plt.show()"
   ]
  },
  {
   "cell_type": "markdown",
   "metadata": {},
   "source": [
    "### 5.2.2 K-nearest neighbor"
   ]
  },
  {
   "cell_type": "markdown",
   "metadata": {},
   "source": [
    "- further feature engineering \n",
    "- k-nearest neighbor\n",
    "- more data will be collected\n",
    "- fine tuning the models"
   ]
  },
  {
   "cell_type": "markdown",
   "metadata": {},
   "source": [
    "## 6. Use developed model to predict rental price of for-sale listings\n"
   ]
  },
  {
   "cell_type": "markdown",
   "metadata": {},
   "source": [
    "## 6.1 Data Preprocessing"
   ]
  },
  {
   "cell_type": "code",
   "execution_count": 425,
   "metadata": {},
   "outputs": [
    {
     "data": {
      "text/plain": [
       "0"
      ]
     },
     "execution_count": 425,
     "metadata": {},
     "output_type": "execute_result"
    }
   ],
   "source": [
    "#check null entries, check sale_data types\n",
    "sale_data.isnull().sum().sum()\n",
    "sale_data.dtypes"
   ]
  },
  {
   "cell_type": "code",
   "execution_count": 426,
   "metadata": {},
   "outputs": [],
   "source": [
    "# a function to convert the tax assessed values\n",
    "def conv(x):\n",
    "    if type(x)==str:\n",
    "        return float(x.strip('$+').replace(',',''))\n",
    "    else:\n",
    "        return x"
   ]
  },
  {
   "cell_type": "code",
   "execution_count": 264,
   "metadata": {},
   "outputs": [
    {
     "name": "stderr",
     "output_type": "stream",
     "text": [
      "/opt/anaconda3/lib/python3.7/site-packages/ipykernel_launcher.py:8: SettingWithCopyWarning: \n",
      "A value is trying to be set on a copy of a slice from a DataFrame\n",
      "\n",
      "See the caveats in the documentation: https://pandas.pydata.org/pandas-docs/stable/user_guide/indexing.html#returning-a-view-versus-a-copy\n",
      "  \n"
     ]
    }
   ],
   "source": [
    "#get rid of off market, lots, and listings not on market yet\n",
    "sale_data.drop(sale_data[sale_data['title'].str.contains('Off market')].index,inplace=True)\n",
    "sale_data.drop(sale_data[sale_data['title'].str.contains('Lot')].index,inplace=True)\n",
    "sale_data.drop(sale_data[sale_data['title'].str.contains('Coming soon')].index,inplace=True)\n",
    "sale_data.drop(sale_data[sale_data['home_type'].str.contains('LOT')].index,inplace=True)\n",
    "\n",
    "#replace 'MANUFACTURED' home type with single family\n",
    "sale_data['home_type'][sale_data['home_type']=='MANUFACTURED']='SINGLE_FAMILY'\n",
    "\n",
    "#drop listings without price info\n",
    "sale_data.drop(sale_data[sale_data['price'].isnull()].index,inplace=True)\n",
    "\n",
    "#fill in missing bathroom with 1\n",
    "sale_data['bathroom']=sale_data['bathroom'].fillna(1)\n",
    "\n",
    "#fill in missing bedroom with 0 (assume studios)\n",
    "sale_data['bedroom']=sale_data['bedroom'].fillna(0)\n",
    "\n",
    "#fill missing area with estimations\n",
    "sale_data['area'].fillna(513+160*sale_data['bedroom']+220*sale_data['bathroom'],inplace=True)\n",
    "\n",
    "#sale_data['area'].fillna(sale_data['lot_size'],inplace=True)\n",
    "\n",
    "#tax_assessed_values will be used to estimte property tax\n",
    "sale_data['tax_assessed_value'].fillna(sale_data['price'],inplace=True)\n",
    "\n",
    "#drop listings with invalid area after impute\n",
    "sale_data.drop((sale_data[sale_data['area']==-1]).index,inplace=True)\n",
    "\n",
    "#convert price into numbers\n",
    "sale_data['price']=sale_data['price'].apply(lambda x: int(x.strip('$+').replace(',','')) )\n",
    "sale_data['tax_assessed_value']=sale_data['tax_assessed_value'].apply(lambda x:conv(x))\n",
    "\n",
    "\n",
    "#get rid of price outliers\n",
    "sale_data.drop(sale_data[sale_data['price']>1000000].index,inplace=True)\n",
    "sale_data.drop(sale_data[sale_data['price']<np.quantile(sale_data['price'],0.1)].index,inplace=True)"
   ]
  },
  {
   "cell_type": "code",
   "execution_count": 428,
   "metadata": {},
   "outputs": [
    {
     "data": {
      "image/png": "[encoded data removed]",
      "text/plain": [
       "<Figure size 400x400 with 1 Axes>"
      ]
     },
     "metadata": {
      "needs_background": "light"
     },
     "output_type": "display_data"
    }
   ],
   "source": [
    "plt.figure(figsize=(4,4), dpi=100)\n",
    "plt.hist(np.log(sale_data['price'].to_numpy()),20)\n",
    "#plt.xlim()\n",
    "plt.title('sales price distribution')\n",
    "plt.show()"
   ]
  },
  {
   "cell_type": "code",
   "execution_count": 269,
   "metadata": {},
   "outputs": [],
   "source": [
    "def one_hot_encoding(df, col):\n",
    "    col_dummy = pd.get_dummies(df[col], drop_first=True)\n",
    "    df = pd.concat([df, col_dummy], axis=1)\n",
    "    return df.drop(columns=[col])"
   ]
  },
  {
   "cell_type": "code",
   "execution_count": 270,
   "metadata": {},
   "outputs": [],
   "source": [
    "# one_hot_encode postal_code and home_type into \n",
    "cols = ['postal_code','home_type']\n",
    "for col in cols:\n",
    "    sale_data = one_hot_encoding(sale_data, col)"
   ]
  },
  {
   "cell_type": "code",
   "execution_count": 271,
   "metadata": {},
   "outputs": [],
   "source": [
    "rent_feature_set = set(X_rent.columns)\n",
    "sale_feature_set = set(X_sale.columns)"
   ]
  },
  {
   "cell_type": "code",
   "execution_count": 273,
   "metadata": {},
   "outputs": [],
   "source": [
    "X_sale = sale_data[X_rent.columns]"
   ]
  },
  {
   "cell_type": "code",
   "execution_count": 429,
   "metadata": {},
   "outputs": [
    {
     "data": {
      "text/html": [
       "<div>\n",
       "<style scoped>\n",
       "    .dataframe tbody tr th:only-of-type {\n",
       "        vertical-align: middle;\n",
       "    }\n",
       "\n",
       "    .dataframe tbody tr th {\n",
       "        vertical-align: top;\n",
       "    }\n",
       "\n",
       "    .dataframe thead th {\n",
       "        text-align: right;\n",
       "    }\n",
       "</style>\n",
       "<table border=\"1\" class=\"dataframe\">\n",
       "  <thead>\n",
       "    <tr style=\"text-align: right;\">\n",
       "      <th></th>\n",
       "      <th>bedroom</th>\n",
       "      <th>bathroom</th>\n",
       "      <th>area</th>\n",
       "      <th>year_built</th>\n",
       "      <th>19103</th>\n",
       "      <th>19104</th>\n",
       "      <th>19106</th>\n",
       "      <th>19107</th>\n",
       "      <th>19111</th>\n",
       "      <th>19114</th>\n",
       "      <th>...</th>\n",
       "      <th>19149</th>\n",
       "      <th>19150</th>\n",
       "      <th>19151</th>\n",
       "      <th>19152</th>\n",
       "      <th>19153</th>\n",
       "      <th>19154</th>\n",
       "      <th>CONDO</th>\n",
       "      <th>MULTI_FAMILY</th>\n",
       "      <th>SINGLE_FAMILY</th>\n",
       "      <th>TOWNHOUSE</th>\n",
       "    </tr>\n",
       "  </thead>\n",
       "  <tbody>\n",
       "    <tr>\n",
       "      <th>1</th>\n",
       "      <td>2.0</td>\n",
       "      <td>2.0</td>\n",
       "      <td>1062.0</td>\n",
       "      <td>1900</td>\n",
       "      <td>0</td>\n",
       "      <td>0</td>\n",
       "      <td>0</td>\n",
       "      <td>0</td>\n",
       "      <td>0</td>\n",
       "      <td>0</td>\n",
       "      <td>...</td>\n",
       "      <td>0</td>\n",
       "      <td>0</td>\n",
       "      <td>0</td>\n",
       "      <td>0</td>\n",
       "      <td>0</td>\n",
       "      <td>0</td>\n",
       "      <td>1</td>\n",
       "      <td>0</td>\n",
       "      <td>0</td>\n",
       "      <td>0</td>\n",
       "    </tr>\n",
       "    <tr>\n",
       "      <th>2</th>\n",
       "      <td>1.0</td>\n",
       "      <td>1.0</td>\n",
       "      <td>798.0</td>\n",
       "      <td>1900</td>\n",
       "      <td>0</td>\n",
       "      <td>0</td>\n",
       "      <td>0</td>\n",
       "      <td>0</td>\n",
       "      <td>0</td>\n",
       "      <td>0</td>\n",
       "      <td>...</td>\n",
       "      <td>0</td>\n",
       "      <td>0</td>\n",
       "      <td>0</td>\n",
       "      <td>0</td>\n",
       "      <td>0</td>\n",
       "      <td>0</td>\n",
       "      <td>1</td>\n",
       "      <td>0</td>\n",
       "      <td>0</td>\n",
       "      <td>0</td>\n",
       "    </tr>\n",
       "    <tr>\n",
       "      <th>4</th>\n",
       "      <td>2.0</td>\n",
       "      <td>2.0</td>\n",
       "      <td>1243.0</td>\n",
       "      <td>1900</td>\n",
       "      <td>0</td>\n",
       "      <td>0</td>\n",
       "      <td>0</td>\n",
       "      <td>0</td>\n",
       "      <td>0</td>\n",
       "      <td>0</td>\n",
       "      <td>...</td>\n",
       "      <td>0</td>\n",
       "      <td>0</td>\n",
       "      <td>0</td>\n",
       "      <td>0</td>\n",
       "      <td>0</td>\n",
       "      <td>0</td>\n",
       "      <td>1</td>\n",
       "      <td>0</td>\n",
       "      <td>0</td>\n",
       "      <td>0</td>\n",
       "    </tr>\n",
       "    <tr>\n",
       "      <th>5</th>\n",
       "      <td>3.0</td>\n",
       "      <td>3.0</td>\n",
       "      <td>1530.0</td>\n",
       "      <td>1850</td>\n",
       "      <td>0</td>\n",
       "      <td>0</td>\n",
       "      <td>0</td>\n",
       "      <td>0</td>\n",
       "      <td>0</td>\n",
       "      <td>0</td>\n",
       "      <td>...</td>\n",
       "      <td>0</td>\n",
       "      <td>0</td>\n",
       "      <td>0</td>\n",
       "      <td>0</td>\n",
       "      <td>0</td>\n",
       "      <td>0</td>\n",
       "      <td>0</td>\n",
       "      <td>0</td>\n",
       "      <td>0</td>\n",
       "      <td>1</td>\n",
       "    </tr>\n",
       "    <tr>\n",
       "      <th>7</th>\n",
       "      <td>2.0</td>\n",
       "      <td>2.0</td>\n",
       "      <td>1111.0</td>\n",
       "      <td>1977</td>\n",
       "      <td>0</td>\n",
       "      <td>0</td>\n",
       "      <td>0</td>\n",
       "      <td>0</td>\n",
       "      <td>0</td>\n",
       "      <td>0</td>\n",
       "      <td>...</td>\n",
       "      <td>0</td>\n",
       "      <td>0</td>\n",
       "      <td>0</td>\n",
       "      <td>0</td>\n",
       "      <td>0</td>\n",
       "      <td>0</td>\n",
       "      <td>1</td>\n",
       "      <td>0</td>\n",
       "      <td>0</td>\n",
       "      <td>0</td>\n",
       "    </tr>\n",
       "  </tbody>\n",
       "</table>\n",
       "<p>5 rows × 53 columns</p>\n",
       "</div>"
      ],
      "text/plain": [
       "   bedroom  bathroom    area  year_built  19103  19104  19106  19107  19111  \\\n",
       "1      2.0       2.0  1062.0        1900      0      0      0      0      0   \n",
       "2      1.0       1.0   798.0        1900      0      0      0      0      0   \n",
       "4      2.0       2.0  1243.0        1900      0      0      0      0      0   \n",
       "5      3.0       3.0  1530.0        1850      0      0      0      0      0   \n",
       "7      2.0       2.0  1111.0        1977      0      0      0      0      0   \n",
       "\n",
       "   19114  ...  19149  19150  19151  19152  19153  19154  CONDO  MULTI_FAMILY  \\\n",
       "1      0  ...      0      0      0      0      0      0      1             0   \n",
       "2      0  ...      0      0      0      0      0      0      1             0   \n",
       "4      0  ...      0      0      0      0      0      0      1             0   \n",
       "5      0  ...      0      0      0      0      0      0      0             0   \n",
       "7      0  ...      0      0      0      0      0      0      1             0   \n",
       "\n",
       "   SINGLE_FAMILY  TOWNHOUSE  \n",
       "1              0          0  \n",
       "2              0          0  \n",
       "4              0          0  \n",
       "5              0          1  \n",
       "7              0          0  \n",
       "\n",
       "[5 rows x 53 columns]"
      ]
     },
     "execution_count": 429,
     "metadata": {},
     "output_type": "execute_result"
    }
   ],
   "source": [
    "X_sale.head()"
   ]
  },
  {
   "cell_type": "markdown",
   "metadata": {},
   "source": [
    "## 6.2 Rental Profit"
   ]
  },
  {
   "cell_type": "markdown",
   "metadata": {},
   "source": [
    "### Predict rental price"
   ]
  },
  {
   "cell_type": "code",
   "execution_count": 275,
   "metadata": {},
   "outputs": [],
   "source": [
    "predicted_rent = pd.DataFrame(np.exp(ridge.predict(X_sale)),columns=['predicted_rent'])"
   ]
  },
  {
   "cell_type": "code",
   "execution_count": 277,
   "metadata": {},
   "outputs": [],
   "source": [
    "sale_data=sale_data.reset_index()"
   ]
  },
  {
   "cell_type": "code",
   "execution_count": 314,
   "metadata": {},
   "outputs": [],
   "source": [
    "sale_profit_df = pd.concat([sale_data['price'],sale_data['long'],sale_data['bedroom'],sale_data['bathroom'], sale_data['lat'],sale_data['tax_assessed_value'],sale_data['address'], predicted_rent],axis=1)\n",
    "\n"
   ]
  },
  {
   "cell_type": "markdown",
   "metadata": {},
   "source": [
    "### Calculate Return on Investment\n",
    "\n",
    "- ROI is calculated based on rental cash flow with property tax deducted"
   ]
  },
  {
   "cell_type": "code",
   "execution_count": 355,
   "metadata": {},
   "outputs": [],
   "source": [
    "sale_profit_df['predicted_rent'] = (sale_profit_df['predicted_rent']//100*100).astype(int)"
   ]
  },
  {
   "cell_type": "code",
   "execution_count": 357,
   "metadata": {},
   "outputs": [],
   "source": [
    "sale_profit_df['property_tax'] = sale_profit_df['tax_assessed_value']*0.01398"
   ]
  },
  {
   "cell_type": "code",
   "execution_count": 358,
   "metadata": {},
   "outputs": [],
   "source": [
    "sale_profit_df['annual_rent'] = sale_profit_df['predicted_rent']*12"
   ]
  },
  {
   "cell_type": "code",
   "execution_count": 359,
   "metadata": {},
   "outputs": [],
   "source": [
    "sale_profit_df['annual_cash_flow'] = sale_profit_df['annual_rent']-sale_profit_df['property_tax']"
   ]
  },
  {
   "cell_type": "code",
   "execution_count": 360,
   "metadata": {},
   "outputs": [],
   "source": [
    "sale_profit_df['ROI'] = sale_profit_df['annual_cash_flow']/sale_profit_df['price']"
   ]
  },
  {
   "cell_type": "code",
   "execution_count": 361,
   "metadata": {},
   "outputs": [],
   "source": [
    "sale_profit_df = sale_profit_df.sort_values(by='ROI',ascending=False, ignore_index=True)"
   ]
  },
  {
   "cell_type": "code",
   "execution_count": 381,
   "metadata": {},
   "outputs": [],
   "source": [
    "picked_profit_df = sale_profit_df[sale_profit_df['ROI']<np.quantile(sale_profit_df['ROI'],0.95)]"
   ]
  },
  {
   "cell_type": "markdown",
   "metadata": {},
   "source": [
    "### Rank of the listings based on ROI"
   ]
  },
  {
   "cell_type": "code",
   "execution_count": 383,
   "metadata": {},
   "outputs": [
    {
     "data": {
      "text/html": [
       "<div>\n",
       "<style scoped>\n",
       "    .dataframe tbody tr th:only-of-type {\n",
       "        vertical-align: middle;\n",
       "    }\n",
       "\n",
       "    .dataframe tbody tr th {\n",
       "        vertical-align: top;\n",
       "    }\n",
       "\n",
       "    .dataframe thead th {\n",
       "        text-align: right;\n",
       "    }\n",
       "</style>\n",
       "<table border=\"1\" class=\"dataframe\">\n",
       "  <thead>\n",
       "    <tr style=\"text-align: right;\">\n",
       "      <th></th>\n",
       "      <th>price</th>\n",
       "      <th>long</th>\n",
       "      <th>bedroom</th>\n",
       "      <th>bathroom</th>\n",
       "      <th>lat</th>\n",
       "      <th>tax_assessed_value</th>\n",
       "      <th>address</th>\n",
       "      <th>predicted_rent</th>\n",
       "      <th>property_tax</th>\n",
       "      <th>annual_rent</th>\n",
       "      <th>annual_cash_flow</th>\n",
       "      <th>ROI</th>\n",
       "    </tr>\n",
       "  </thead>\n",
       "  <tbody>\n",
       "    <tr>\n",
       "      <th>70</th>\n",
       "      <td>109900</td>\n",
       "      <td>-75.177553</td>\n",
       "      <td>3.0</td>\n",
       "      <td>1.0</td>\n",
       "      <td>40.044594</td>\n",
       "      <td>76600.0</td>\n",
       "      <td>141 E Tulpehocken St</td>\n",
       "      <td>1300</td>\n",
       "      <td>1070.868</td>\n",
       "      <td>15600</td>\n",
       "      <td>14529.132</td>\n",
       "      <td>0.132203</td>\n",
       "    </tr>\n",
       "    <tr>\n",
       "      <th>71</th>\n",
       "      <td>95000</td>\n",
       "      <td>-75.149978</td>\n",
       "      <td>3.0</td>\n",
       "      <td>1.0</td>\n",
       "      <td>40.058125</td>\n",
       "      <td>135700.0</td>\n",
       "      <td>6832 Wyncote Ave</td>\n",
       "      <td>1200</td>\n",
       "      <td>1897.086</td>\n",
       "      <td>14400</td>\n",
       "      <td>12502.914</td>\n",
       "      <td>0.131610</td>\n",
       "    </tr>\n",
       "    <tr>\n",
       "      <th>72</th>\n",
       "      <td>160000</td>\n",
       "      <td>-75.175297</td>\n",
       "      <td>3.0</td>\n",
       "      <td>2.0</td>\n",
       "      <td>40.005406</td>\n",
       "      <td>44100.0</td>\n",
       "      <td>3237 N Newkirk St</td>\n",
       "      <td>1800</td>\n",
       "      <td>616.518</td>\n",
       "      <td>21600</td>\n",
       "      <td>20983.482</td>\n",
       "      <td>0.131147</td>\n",
       "    </tr>\n",
       "    <tr>\n",
       "      <th>73</th>\n",
       "      <td>119900</td>\n",
       "      <td>-75.133306</td>\n",
       "      <td>4.0</td>\n",
       "      <td>2.0</td>\n",
       "      <td>40.029285</td>\n",
       "      <td>78300.0</td>\n",
       "      <td>5112 N Fairhill St</td>\n",
       "      <td>1400</td>\n",
       "      <td>1094.634</td>\n",
       "      <td>16800</td>\n",
       "      <td>15705.366</td>\n",
       "      <td>0.130987</td>\n",
       "    </tr>\n",
       "    <tr>\n",
       "      <th>74</th>\n",
       "      <td>115000</td>\n",
       "      <td>-75.230981</td>\n",
       "      <td>3.0</td>\n",
       "      <td>2.0</td>\n",
       "      <td>39.976285</td>\n",
       "      <td>43100.0</td>\n",
       "      <td>1530 N Conestoga St</td>\n",
       "      <td>1300</td>\n",
       "      <td>602.538</td>\n",
       "      <td>15600</td>\n",
       "      <td>14997.462</td>\n",
       "      <td>0.130413</td>\n",
       "    </tr>\n",
       "  </tbody>\n",
       "</table>\n",
       "</div>"
      ],
      "text/plain": [
       "     price       long  bedroom  bathroom        lat  tax_assessed_value  \\\n",
       "70  109900 -75.177553      3.0       1.0  40.044594             76600.0   \n",
       "71   95000 -75.149978      3.0       1.0  40.058125            135700.0   \n",
       "72  160000 -75.175297      3.0       2.0  40.005406             44100.0   \n",
       "73  119900 -75.133306      4.0       2.0  40.029285             78300.0   \n",
       "74  115000 -75.230981      3.0       2.0  39.976285             43100.0   \n",
       "\n",
       "                 address  predicted_rent  property_tax  annual_rent  \\\n",
       "70  141 E Tulpehocken St            1300      1070.868        15600   \n",
       "71      6832 Wyncote Ave            1200      1897.086        14400   \n",
       "72     3237 N Newkirk St            1800       616.518        21600   \n",
       "73    5112 N Fairhill St            1400      1094.634        16800   \n",
       "74   1530 N Conestoga St            1300       602.538        15600   \n",
       "\n",
       "    annual_cash_flow       ROI  \n",
       "70         14529.132  0.132203  \n",
       "71         12502.914  0.131610  \n",
       "72         20983.482  0.131147  \n",
       "73         15705.366  0.130987  \n",
       "74         14997.462  0.130413  "
      ]
     },
     "execution_count": 383,
     "metadata": {},
     "output_type": "execute_result"
    }
   ],
   "source": [
    "# top 30 profitable listings\n",
    "picked_profit_df.head()"
   ]
  },
  {
   "cell_type": "code",
   "execution_count": 387,
   "metadata": {},
   "outputs": [
    {
     "data": {
      "image/png": "[encoded data removed]",
      "text/plain": [
       "<Figure size 432x288 with 1 Axes>"
      ]
     },
     "metadata": {
      "needs_background": "light"
     },
     "output_type": "display_data"
    }
   ],
   "source": [
    "plt.hist(picked_profit_df['ROI'],20)\n",
    "plt.show()"
   ]
  },
  {
   "cell_type": "code",
   "execution_count": 389,
   "metadata": {},
   "outputs": [
    {
     "data": {
      "image/png": "[encoded data removed]",
      "text/plain": [
       "<Figure size 432x288 with 1 Axes>"
      ]
     },
     "metadata": {
      "needs_background": "light"
     },
     "output_type": "display_data"
    }
   ],
   "source": [
    "plt.boxplot(picked_profit_df['ROI'])\n",
    "plt.show()"
   ]
  },
  {
   "cell_type": "markdown",
   "metadata": {},
   "source": [
    "### Visualize top 50 most profitable listings"
   ]
  },
  {
   "cell_type": "code",
   "execution_count": 390,
   "metadata": {},
   "outputs": [],
   "source": [
    "import math\n",
    "from ast import literal_eval\n",
    "def merc(lon,lat):\n",
    "    r_major = 6378137.000\n",
    "    x = r_major * math.radians(lon)\n",
    "    scale = x/lon\n",
    "    y = 180.0/math.pi * math.log(math.tan(math.pi/4.0 + \n",
    "        lat * (math.pi/180.0)/2.0)) * scale\n",
    "    return (x, y)"
   ]
  },
  {
   "cell_type": "code",
   "execution_count": 391,
   "metadata": {},
   "outputs": [],
   "source": [
    "mark_data = picked_profit_df.iloc[0:50]"
   ]
  },
  {
   "cell_type": "code",
   "execution_count": 392,
   "metadata": {},
   "outputs": [
    {
     "name": "stderr",
     "output_type": "stream",
     "text": [
      "/opt/anaconda3/lib/python3.7/site-packages/ipykernel_launcher.py:1: SettingWithCopyWarning: \n",
      "A value is trying to be set on a copy of a slice from a DataFrame.\n",
      "Try using .loc[row_indexer,col_indexer] = value instead\n",
      "\n",
      "See the caveats in the documentation: https://pandas.pydata.org/pandas-docs/stable/user_guide/indexing.html#returning-a-view-versus-a-copy\n",
      "  \"\"\"Entry point for launching an IPython kernel.\n",
      "/opt/anaconda3/lib/python3.7/site-packages/ipykernel_launcher.py:2: SettingWithCopyWarning: \n",
      "A value is trying to be set on a copy of a slice from a DataFrame.\n",
      "Try using .loc[row_indexer,col_indexer] = value instead\n",
      "\n",
      "See the caveats in the documentation: https://pandas.pydata.org/pandas-docs/stable/user_guide/indexing.html#returning-a-view-versus-a-copy\n",
      "  \n"
     ]
    }
   ],
   "source": [
    "mark_data['coords_x'] = mark_data[['long','lat']].apply(lambda x: merc(*x)[0],axis=1)\n",
    "mark_data['coords_y'] = mark_data[['long','lat']].apply(lambda x: merc(*x)[1],axis=1)"
   ]
  },
  {
   "cell_type": "code",
   "execution_count": 398,
   "metadata": {},
   "outputs": [
    {
     "data": {
      "text/plain": [
       "0.06843176441687342"
      ]
     },
     "execution_count": 398,
     "metadata": {},
     "output_type": "execute_result"
    }
   ],
   "source": [
    "picked_profit_df['ROI'].median()"
   ]
  },
  {
   "cell_type": "code",
   "execution_count": 396,
   "metadata": {},
   "outputs": [
    {
     "name": "stderr",
     "output_type": "stream",
     "text": [
      "BokehDeprecationWarning: CARTODBPOSITRON was deprecated in Bokeh 1.1.0 and will be removed, use get_provider(Vendors.CARTODBPOSITRON) instead.\n"
     ]
    },
    {
     "data": {
      "text/html": [
       "\n",
       "    <div class=\"bk-root\">\n",
       "        <a href=\"https://bokeh.pydata.org\" target=\"_blank\" class=\"bk-logo bk-logo-small bk-logo-notebook\"></a>\n",
       "        <span id=\"3373\">Loading BokehJS ...</span>\n",
       "    </div>"
      ]
     },
     "metadata": {},
     "output_type": "display_data"
    },
    {
     "data": {
      "application/javascript": [
       "\n",
       "(function(root) {\n",
       "  function now() {\n",
       "    return new Date();\n",
       "  }\n",
       "\n",
       "  var force = true;\n",
       "\n",
       "  if (typeof root._bokeh_onload_callbacks === \"undefined\" || force === true) {\n",
       "    root._bokeh_onload_callbacks = [];\n",
       "    root._bokeh_is_loading = undefined;\n",
       "  }\n",
       "\n",
       "  var JS_MIME_TYPE = 'application/javascript';\n",
       "  var HTML_MIME_TYPE = 'text/html';\n",
       "  var EXEC_MIME_TYPE = 'application/vnd.bokehjs_exec.v0+json';\n",
       "  var CLASS_NAME = 'output_bokeh rendered_html';\n",
       "\n",
       "  /**\n",
       "   * Render data to the DOM node\n",
       "   */\n",
       "  function render(props, node) {\n",
       "    var script = document.createElement(\"script\");\n",
       "    node.appendChild(script);\n",
       "  }\n",
       "\n",
       "  /**\n",
       "   * Handle when an output is cleared or removed\n",
       "   */\n",
       "  function handleClearOutput(event, handle) {\n",
       "    var cell = handle.cell;\n",
       "\n",
       "    var id = cell.output_area._bokeh_element_id;\n",
       "    var server_id = cell.output_area._bokeh_server_id;\n",
       "    // Clean up Bokeh references\n",
       "    if (id != null && id in Bokeh.index) {\n",
       "      Bokeh.index[id].model.document.clear();\n",
       "      delete Bokeh.index[id];\n",
       "    }\n",
       "\n",
       "    if (server_id !== undefined) {\n",
       "      // Clean up Bokeh references\n",
       "      var cmd = \"from bokeh.io.state import curstate; print(curstate().uuid_to_server['\" + server_id + \"'].get_sessions()[0].document.roots[0]._id)\";\n",
       "      cell.notebook.kernel.execute(cmd, {\n",
       "        iopub: {\n",
       "          output: function(msg) {\n",
       "            var id = msg.content.text.trim();\n",
       "            if (id in Bokeh.index) {\n",
       "              Bokeh.index[id].model.document.clear();\n",
       "              delete Bokeh.index[id];\n",
       "            }\n",
       "          }\n",
       "        }\n",
       "      });\n",
       "      // Destroy server and session\n",
       "      var cmd = \"import bokeh.io.notebook as ion; ion.destroy_server('\" + server_id + \"')\";\n",
       "      cell.notebook.kernel.execute(cmd);\n",
       "    }\n",
       "  }\n",
       "\n",
       "  /**\n",
       "   * Handle when a new output is added\n",
       "   */\n",
       "  function handleAddOutput(event, handle) {\n",
       "    var output_area = handle.output_area;\n",
       "    var output = handle.output;\n",
       "\n",
       "    // limit handleAddOutput to display_data with EXEC_MIME_TYPE content only\n",
       "    if ((output.output_type != \"display_data\") || (!output.data.hasOwnProperty(EXEC_MIME_TYPE))) {\n",
       "      return\n",
       "    }\n",
       "\n",
       "    var toinsert = output_area.element.find(\".\" + CLASS_NAME.split(' ')[0]);\n",
       "\n",
       "    if (output.metadata[EXEC_MIME_TYPE][\"id\"] !== undefined) {\n",
       "      toinsert[toinsert.length - 1].firstChild.textContent = output.data[JS_MIME_TYPE];\n",
       "      // store reference to embed id on output_area\n",
       "      output_area._bokeh_element_id = output.metadata[EXEC_MIME_TYPE][\"id\"];\n",
       "    }\n",
       "    if (output.metadata[EXEC_MIME_TYPE][\"server_id\"] !== undefined) {\n",
       "      var bk_div = document.createElement(\"div\");\n",
       "      bk_div.innerHTML = output.data[HTML_MIME_TYPE];\n",
       "      var script_attrs = bk_div.children[0].attributes;\n",
       "      for (var i = 0; i < script_attrs.length; i++) {\n",
       "        toinsert[toinsert.length - 1].firstChild.setAttribute(script_attrs[i].name, script_attrs[i].value);\n",
       "      }\n",
       "      // store reference to server id on output_area\n",
       "      output_area._bokeh_server_id = output.metadata[EXEC_MIME_TYPE][\"server_id\"];\n",
       "    }\n",
       "  }\n",
       "\n",
       "  function register_renderer(events, OutputArea) {\n",
       "\n",
       "    function append_mime(data, metadata, element) {\n",
       "      // create a DOM node to render to\n",
       "      var toinsert = this.create_output_subarea(\n",
       "        metadata,\n",
       "        CLASS_NAME,\n",
       "        EXEC_MIME_TYPE\n",
       "      );\n",
       "      this.keyboard_manager.register_events(toinsert);\n",
       "      // Render to node\n",
       "      var props = {data: data, metadata: metadata[EXEC_MIME_TYPE]};\n",
       "      render(props, toinsert[toinsert.length - 1]);\n",
       "      element.append(toinsert);\n",
       "      return toinsert\n",
       "    }\n",
       "\n",
       "    /* Handle when an output is cleared or removed */\n",
       "    events.on('clear_output.CodeCell', handleClearOutput);\n",
       "    events.on('delete.Cell', handleClearOutput);\n",
       "\n",
       "    /* Handle when a new output is added */\n",
       "    events.on('output_added.OutputArea', handleAddOutput);\n",
       "\n",
       "    /**\n",
       "     * Register the mime type and append_mime function with output_area\n",
       "     */\n",
       "    OutputArea.prototype.register_mime_type(EXEC_MIME_TYPE, append_mime, {\n",
       "      /* Is output safe? */\n",
       "      safe: true,\n",
       "      /* Index of renderer in `output_area.display_order` */\n",
       "      index: 0\n",
       "    });\n",
       "  }\n",
       "\n",
       "  // register the mime type if in Jupyter Notebook environment and previously unregistered\n",
       "  if (root.Jupyter !== undefined) {\n",
       "    var events = require('base/js/events');\n",
       "    var OutputArea = require('notebook/js/outputarea').OutputArea;\n",
       "\n",
       "    if (OutputArea.prototype.mime_types().indexOf(EXEC_MIME_TYPE) == -1) {\n",
       "      register_renderer(events, OutputArea);\n",
       "    }\n",
       "  }\n",
       "\n",
       "  \n",
       "  if (typeof (root._bokeh_timeout) === \"undefined\" || force === true) {\n",
       "    root._bokeh_timeout = Date.now() + 5000;\n",
       "    root._bokeh_failed_load = false;\n",
       "  }\n",
       "\n",
       "  var NB_LOAD_WARNING = {'data': {'text/html':\n",
       "     \"<div style='background-color: #fdd'>\\n\"+\n",
       "     \"<p>\\n\"+\n",
       "     \"BokehJS does not appear to have successfully loaded. If loading BokehJS from CDN, this \\n\"+\n",
       "     \"may be due to a slow or bad network connection. Possible fixes:\\n\"+\n",
       "     \"</p>\\n\"+\n",
       "     \"<ul>\\n\"+\n",
       "     \"<li>re-rerun `output_notebook()` to attempt to load from CDN again, or</li>\\n\"+\n",
       "     \"<li>use INLINE resources instead, as so:</li>\\n\"+\n",
       "     \"</ul>\\n\"+\n",
       "     \"<code>\\n\"+\n",
       "     \"from bokeh.resources import INLINE\\n\"+\n",
       "     \"output_notebook(resources=INLINE)\\n\"+\n",
       "     \"</code>\\n\"+\n",
       "     \"</div>\"}};\n",
       "\n",
       "  function display_loaded() {\n",
       "    var el = document.getElementById(\"3373\");\n",
       "    if (el != null) {\n",
       "      el.textContent = \"BokehJS is loading...\";\n",
       "    }\n",
       "    if (root.Bokeh !== undefined) {\n",
       "      if (el != null) {\n",
       "        el.textContent = \"BokehJS \" + root.Bokeh.version + \" successfully loaded.\";\n",
       "      }\n",
       "    } else if (Date.now() < root._bokeh_timeout) {\n",
       "      setTimeout(display_loaded, 100)\n",
       "    }\n",
       "  }\n",
       "\n",
       "\n",
       "  function run_callbacks() {\n",
       "    try {\n",
       "      root._bokeh_onload_callbacks.forEach(function(callback) {\n",
       "        if (callback != null)\n",
       "          callback();\n",
       "      });\n",
       "    } finally {\n",
       "      delete root._bokeh_onload_callbacks\n",
       "    }\n",
       "    console.debug(\"Bokeh: all callbacks have finished\");\n",
       "  }\n",
       "\n",
       "  function load_libs(css_urls, js_urls, callback) {\n",
       "    if (css_urls == null) css_urls = [];\n",
       "    if (js_urls == null) js_urls = [];\n",
       "\n",
       "    root._bokeh_onload_callbacks.push(callback);\n",
       "    if (root._bokeh_is_loading > 0) {\n",
       "      console.debug(\"Bokeh: BokehJS is being loaded, scheduling callback at\", now());\n",
       "      return null;\n",
       "    }\n",
       "    if (js_urls == null || js_urls.length === 0) {\n",
       "      run_callbacks();\n",
       "      return null;\n",
       "    }\n",
       "    console.debug(\"Bokeh: BokehJS not loaded, scheduling load and callback at\", now());\n",
       "    root._bokeh_is_loading = css_urls.length + js_urls.length;\n",
       "\n",
       "    function on_load() {\n",
       "      root._bokeh_is_loading--;\n",
       "      if (root._bokeh_is_loading === 0) {\n",
       "        console.debug(\"Bokeh: all BokehJS libraries/stylesheets loaded\");\n",
       "        run_callbacks()\n",
       "      }\n",
       "    }\n",
       "\n",
       "    function on_error() {\n",
       "      console.error(\"failed to load \" + url);\n",
       "    }\n",
       "\n",
       "    for (var i = 0; i < css_urls.length; i++) {\n",
       "      var url = css_urls[i];\n",
       "      const element = document.createElement(\"link\");\n",
       "      element.onload = on_load;\n",
       "      element.onerror = on_error;\n",
       "      element.rel = \"stylesheet\";\n",
       "      element.type = \"text/css\";\n",
       "      element.href = url;\n",
       "      console.debug(\"Bokeh: injecting link tag for BokehJS stylesheet: \", url);\n",
       "      document.body.appendChild(element);\n",
       "    }\n",
       "\n",
       "    for (var i = 0; i < js_urls.length; i++) {\n",
       "      var url = js_urls[i];\n",
       "      var element = document.createElement('script');\n",
       "      element.onload = on_load;\n",
       "      element.onerror = on_error;\n",
       "      element.async = false;\n",
       "      element.src = url;\n",
       "      console.debug(\"Bokeh: injecting script tag for BokehJS library: \", url);\n",
       "      document.head.appendChild(element);\n",
       "    }\n",
       "  };var element = document.getElementById(\"3373\");\n",
       "  if (element == null) {\n",
       "    console.error(\"Bokeh: ERROR: autoload.js configured with elementid '3373' but no matching script tag was found. \")\n",
       "    return false;\n",
       "  }\n",
       "\n",
       "  function inject_raw_css(css) {\n",
       "    const element = document.createElement(\"style\");\n",
       "    element.appendChild(document.createTextNode(css));\n",
       "    document.body.appendChild(element);\n",
       "  }\n",
       "\n",
       "  var js_urls = [\"https://cdn.pydata.org/bokeh/release/bokeh-1.3.4.min.js\", \"https://cdn.pydata.org/bokeh/release/bokeh-widgets-1.3.4.min.js\", \"https://cdn.pydata.org/bokeh/release/bokeh-tables-1.3.4.min.js\", \"https://cdn.pydata.org/bokeh/release/bokeh-gl-1.3.4.min.js\"];\n",
       "  var css_urls = [];\n",
       "\n",
       "  var inline_js = [\n",
       "    function(Bokeh) {\n",
       "      Bokeh.set_log_level(\"info\");\n",
       "    },\n",
       "    \n",
       "    function(Bokeh) {\n",
       "      \n",
       "    },\n",
       "    function(Bokeh) {} // ensure no trailing comma for IE\n",
       "  ];\n",
       "\n",
       "  function run_inline_js() {\n",
       "    \n",
       "    if ((root.Bokeh !== undefined) || (force === true)) {\n",
       "      for (var i = 0; i < inline_js.length; i++) {\n",
       "        inline_js[i].call(root, root.Bokeh);\n",
       "      }if (force === true) {\n",
       "        display_loaded();\n",
       "      }} else if (Date.now() < root._bokeh_timeout) {\n",
       "      setTimeout(run_inline_js, 100);\n",
       "    } else if (!root._bokeh_failed_load) {\n",
       "      console.log(\"Bokeh: BokehJS failed to load within specified timeout.\");\n",
       "      root._bokeh_failed_load = true;\n",
       "    } else if (force !== true) {\n",
       "      var cell = $(document.getElementById(\"3373\")).parents('.cell').data().cell;\n",
       "      cell.output_area.append_execute_result(NB_LOAD_WARNING)\n",
       "    }\n",
       "\n",
       "  }\n",
       "\n",
       "  if (root._bokeh_is_loading === 0) {\n",
       "    console.debug(\"Bokeh: BokehJS loaded, going straight to plotting\");\n",
       "    run_inline_js();\n",
       "  } else {\n",
       "    load_libs(css_urls, js_urls, function() {\n",
       "      console.debug(\"Bokeh: BokehJS plotting callback run at\", now());\n",
       "      run_inline_js();\n",
       "    });\n",
       "  }\n",
       "}(window));"
      ],
      "application/vnd.bokehjs_load.v0+json": "\n(function(root) {\n  function now() {\n    return new Date();\n  }\n\n  var force = true;\n\n  if (typeof root._bokeh_onload_callbacks === \"undefined\" || force === true) {\n    root._bokeh_onload_callbacks = [];\n    root._bokeh_is_loading = undefined;\n  }\n\n  \n\n  \n  if (typeof (root._bokeh_timeout) === \"undefined\" || force === true) {\n    root._bokeh_timeout = Date.now() + 5000;\n    root._bokeh_failed_load = false;\n  }\n\n  var NB_LOAD_WARNING = {'data': {'text/html':\n     \"<div style='background-color: #fdd'>\\n\"+\n     \"<p>\\n\"+\n     \"BokehJS does not appear to have successfully loaded. If loading BokehJS from CDN, this \\n\"+\n     \"may be due to a slow or bad network connection. Possible fixes:\\n\"+\n     \"</p>\\n\"+\n     \"<ul>\\n\"+\n     \"<li>re-rerun `output_notebook()` to attempt to load from CDN again, or</li>\\n\"+\n     \"<li>use INLINE resources instead, as so:</li>\\n\"+\n     \"</ul>\\n\"+\n     \"<code>\\n\"+\n     \"from bokeh.resources import INLINE\\n\"+\n     \"output_notebook(resources=INLINE)\\n\"+\n     \"</code>\\n\"+\n     \"</div>\"}};\n\n  function display_loaded() {\n    var el = document.getElementById(\"3373\");\n    if (el != null) {\n      el.textContent = \"BokehJS is loading...\";\n    }\n    if (root.Bokeh !== undefined) {\n      if (el != null) {\n        el.textContent = \"BokehJS \" + root.Bokeh.version + \" successfully loaded.\";\n      }\n    } else if (Date.now() < root._bokeh_timeout) {\n      setTimeout(display_loaded, 100)\n    }\n  }\n\n\n  function run_callbacks() {\n    try {\n      root._bokeh_onload_callbacks.forEach(function(callback) {\n        if (callback != null)\n          callback();\n      });\n    } finally {\n      delete root._bokeh_onload_callbacks\n    }\n    console.debug(\"Bokeh: all callbacks have finished\");\n  }\n\n  function load_libs(css_urls, js_urls, callback) {\n    if (css_urls == null) css_urls = [];\n    if (js_urls == null) js_urls = [];\n\n    root._bokeh_onload_callbacks.push(callback);\n    if (root._bokeh_is_loading > 0) {\n      console.debug(\"Bokeh: BokehJS is being loaded, scheduling callback at\", now());\n      return null;\n    }\n    if (js_urls == null || js_urls.length === 0) {\n      run_callbacks();\n      return null;\n    }\n    console.debug(\"Bokeh: BokehJS not loaded, scheduling load and callback at\", now());\n    root._bokeh_is_loading = css_urls.length + js_urls.length;\n\n    function on_load() {\n      root._bokeh_is_loading--;\n      if (root._bokeh_is_loading === 0) {\n        console.debug(\"Bokeh: all BokehJS libraries/stylesheets loaded\");\n        run_callbacks()\n      }\n    }\n\n    function on_error() {\n      console.error(\"failed to load \" + url);\n    }\n\n    for (var i = 0; i < css_urls.length; i++) {\n      var url = css_urls[i];\n      const element = document.createElement(\"link\");\n      element.onload = on_load;\n      element.onerror = on_error;\n      element.rel = \"stylesheet\";\n      element.type = \"text/css\";\n      element.href = url;\n      console.debug(\"Bokeh: injecting link tag for BokehJS stylesheet: \", url);\n      document.body.appendChild(element);\n    }\n\n    for (var i = 0; i < js_urls.length; i++) {\n      var url = js_urls[i];\n      var element = document.createElement('script');\n      element.onload = on_load;\n      element.onerror = on_error;\n      element.async = false;\n      element.src = url;\n      console.debug(\"Bokeh: injecting script tag for BokehJS library: \", url);\n      document.head.appendChild(element);\n    }\n  };var element = document.getElementById(\"3373\");\n  if (element == null) {\n    console.error(\"Bokeh: ERROR: autoload.js configured with elementid '3373' but no matching script tag was found. \")\n    return false;\n  }\n\n  function inject_raw_css(css) {\n    const element = document.createElement(\"style\");\n    element.appendChild(document.createTextNode(css));\n    document.body.appendChild(element);\n  }\n\n  var js_urls = [\"https://cdn.pydata.org/bokeh/release/bokeh-1.3.4.min.js\", \"https://cdn.pydata.org/bokeh/release/bokeh-widgets-1.3.4.min.js\", \"https://cdn.pydata.org/bokeh/release/bokeh-tables-1.3.4.min.js\", \"https://cdn.pydata.org/bokeh/release/bokeh-gl-1.3.4.min.js\"];\n  var css_urls = [];\n\n  var inline_js = [\n    function(Bokeh) {\n      Bokeh.set_log_level(\"info\");\n    },\n    \n    function(Bokeh) {\n      \n    },\n    function(Bokeh) {} // ensure no trailing comma for IE\n  ];\n\n  function run_inline_js() {\n    \n    if ((root.Bokeh !== undefined) || (force === true)) {\n      for (var i = 0; i < inline_js.length; i++) {\n        inline_js[i].call(root, root.Bokeh);\n      }if (force === true) {\n        display_loaded();\n      }} else if (Date.now() < root._bokeh_timeout) {\n      setTimeout(run_inline_js, 100);\n    } else if (!root._bokeh_failed_load) {\n      console.log(\"Bokeh: BokehJS failed to load within specified timeout.\");\n      root._bokeh_failed_load = true;\n    } else if (force !== true) {\n      var cell = $(document.getElementById(\"3373\")).parents('.cell').data().cell;\n      cell.output_area.append_execute_result(NB_LOAD_WARNING)\n    }\n\n  }\n\n  if (root._bokeh_is_loading === 0) {\n    console.debug(\"Bokeh: BokehJS loaded, going straight to plotting\");\n    run_inline_js();\n  } else {\n    load_libs(css_urls, js_urls, function() {\n      console.debug(\"Bokeh: BokehJS plotting callback run at\", now());\n      run_inline_js();\n    });\n  }\n}(window));"
     },
     "metadata": {},
     "output_type": "display_data"
    },
    {
     "data": {
      "text/html": [
       "\n",
       "\n",
       "\n",
       "\n",
       "\n",
       "\n",
       "  <div class=\"bk-root\" id=\"50249d2b-456b-4eea-aca1-8e7bbe59a0d2\" data-root-id=\"3331\"></div>\n"
      ]
     },
     "metadata": {},
     "output_type": "display_data"
    },
    {
     "data": {
      "application/javascript": [
       "(function(root) {\n",
       "  function embed_document(root) {\n",
       "    \n",
       "  var docs_json = {\"5425e3f8-a606-4b34-a130-2af8c4a4216e\":{\"roots\":{\"references\":[{\"attributes\":{\"below\":[{\"id\":\"3340\",\"type\":\"MercatorAxis\"}],\"center\":[{\"id\":\"3348\",\"type\":\"Grid\"},{\"id\":\"3357\",\"type\":\"Grid\"}],\"left\":[{\"id\":\"3349\",\"type\":\"MercatorAxis\"}],\"renderers\":[{\"id\":\"3366\",\"type\":\"TileRenderer\"},{\"id\":\"3371\",\"type\":\"GlyphRenderer\"}],\"title\":{\"id\":\"3492\",\"type\":\"Title\"},\"toolbar\":{\"id\":\"3361\",\"type\":\"Toolbar\"},\"x_range\":{\"id\":\"3332\",\"type\":\"DataRange1d\"},\"x_scale\":{\"id\":\"3336\",\"type\":\"LinearScale\"},\"y_range\":{\"id\":\"3334\",\"type\":\"DataRange1d\"},\"y_scale\":{\"id\":\"3338\",\"type\":\"LinearScale\"}},\"id\":\"3331\",\"subtype\":\"Figure\",\"type\":\"Plot\"},{\"attributes\":{\"fill_alpha\":{\"value\":0.1},\"fill_color\":{\"value\":\"navy\"},\"line_color\":{\"value\":\"blue\"},\"size\":{\"field\":\"size\",\"units\":\"screen\"},\"x\":{\"field\":\"x\"},\"y\":{\"field\":\"y\"}},\"id\":\"3369\",\"type\":\"Circle\"},{\"attributes\":{\"ticker\":{\"id\":\"3341\",\"type\":\"MercatorTicker\"}},\"id\":\"3348\",\"type\":\"Grid\"},{\"attributes\":{\"callback\":null,\"tooltips\":[[\"beds\",\"@beds\"],[\"baths\",\"@baths\"],[\"price\",\"@price\"],[\"ROI\",\"@ROI\"],[\"rent\",\"@rent\"],[\"address\",\"@address\"]]},\"id\":\"3330\",\"type\":\"HoverTool\"},{\"attributes\":{},\"id\":\"3358\",\"type\":\"WheelZoomTool\"},{\"attributes\":{\"dimension\":\"lat\"},\"id\":\"3352\",\"type\":\"MercatorTickFormatter\"},{\"attributes\":{\"callback\":null,\"data\":{\"ROI\":[0.13220320291173793,0.13160962105263158,0.1311467625,0.13098720600500416,0.13041271304347826,0.13033315966386555,0.13011345,0.13002,0.1296963375,0.1286729379310345,0.12858432,0.12805481243301178,0.1279458,0.1277835616438356,0.1272907951807229,0.1269753,0.12675042535446204,0.12634497142857143,0.12602050588235295,0.12599254378648875,0.12593854879065888,0.12559596923076924,0.1253781981981982,0.12450757575757576,0.124481125,0.12401333333333334,0.12374922837100547,0.12326467826086956,0.12324443478260869,0.123096,0.12275856812933025,0.12246178179470628,0.12236806451612903,0.12213981818181817,0.12202,0.12187292727272728,0.1214790072057646,0.12125862759113651,0.12100551515151516,0.12089299016772702,0.12085686766772458,0.1208078976640712,0.1201694034523687,0.120080352,0.11993605691448898,0.1198374,0.11943577788894447,0.11927626470588236,0.11915032657329472,0.11914674139311449],\"address\":[\"141 E Tulpehocken St\",\"6832 Wyncote Ave\",\"3237 N Newkirk St\",\"5112 N Fairhill St\",\"1530 N Conestoga St\",\"1324 Locust St APT 327\",\"3100 Barnett St\",\"1900 John F Kennedy Blvd APT 2001\",\"2511 N 4th St\",\"7336 Chelwynde Ave\",\"2430 W Seybert St\",\"2137 N 8th St\",\"902 Pine St #P2\",\"2948 Hale St\",\"2342 N Camac St\",\"6234 Ogontz Ave\",\"5301 Euclid St\",\"3012 Agate St\",\"5404 Wyndale Ave\",\"835 E Hilton St\",\"7208 Cornelius St\",\"5941 Irving St\",\"7139 State Rd\",\"5703 N 13th St\",\"4807 N 9th St\",\"2232 S Hobson St\",\"5048 Nevada St\",\"7148 Dicks Ave\",\"1351 E Price St\",\"11895 Academy Rd #J9\",\"6625 N Lawrence St\",\"1442 S 55th St\",\"5930 Elmhurst St\",\"6541 Allman St\",\"1638 W Venango St\",\"4637 N Camac St\",\"5100 N 15th St\",\"2308 Mountain St\",\"1324 Locust St APT 1107\",\"5511 Belmar Ter\",\"2242 N 12th St\",\"4044 Neilson St\",\"205 W Godfrey Ave\",\"614 E Stafford St\",\"1349 E Passyunk Ave\",\"642 Anchor St\",\"560 Van Kirk St\",\"1346 N 29th St\",\"1124 Fillmore St\",\"2422 N Lawrence St\"],\"baths\":[1.0,1.0,2.0,2.0,2.0,1.0,2.0,1.0,1.0,1.0,1.0,4.0,1.0,1.0,3.0,3.0,2.0,1.0,3.0,2.0,2.0,2.0,1.0,1.0,1.0,1.0,5.0,1.0,2.0,3.0,2.0,2.0,2.0,2.0,3.0,2.0,2.0,1.0,1.0,3.0,3.0,1.0,2.0,1.0,2.0,1.0,1.0,2.0,3.0,1.0],\"beds\":[3.0,3.0,3.0,4.0,3.0,1.0,3.0,2.0,5.0,3.0,3.0,4.0,0.0,3.0,6.0,3.0,3.0,3.0,5.0,3.0,3.0,3.0,3.0,3.0,3.0,3.0,8.0,3.0,5.0,3.0,3.0,3.0,4.0,3.0,4.0,3.0,4.0,3.0,0.0,3.0,4.0,3.0,3.0,3.0,5.0,3.0,3.0,5.0,5.0,3.0],\"price\":[109900,95000,160000,119900,115000,119000,120000,150000,160000,108750,125000,279900,100000,109500,249000,120000,119900,105000,170000,119900,119900,130000,99900,99000,96000,90000,384900,115000,184000,175000,129900,154900,155000,110000,150000,110000,124900,139900,99000,172900,189999,89900,106999,125000,279999,100000,99950,204000,174999,124900],\"rent\":[1300,1200,1800,1400,1300,1400,1500,1800,1800,1200,1400,3100,1100,1300,2700,1400,1300,1200,2000,1300,1400,1400,1200,1100,1100,1000,4300,1300,1900,1900,1500,1600,1700,1200,1700,1200,1400,1500,1100,1800,2000,1000,1200,1300,3100,1100,1100,2200,1900,1300],\"size\":[13.220320291173792,13.160962105263158,13.114676250000002,13.098720600500416,13.041271304347827,13.033315966386555,13.011344999999999,13.001999999999999,12.969633750000002,12.867293793103448,12.858432,12.805481243301179,12.79458,12.778356164383561,12.72907951807229,12.69753,12.675042535446204,12.634497142857143,12.602050588235295,12.599254378648874,12.593854879065889,12.559596923076924,12.53781981981982,12.450757575757576,12.4481125,12.401333333333334,12.374922837100547,12.326467826086956,12.324443478260868,12.3096,12.275856812933025,12.246178179470627,12.236806451612903,12.213981818181816,12.202,12.187292727272728,12.14790072057646,12.125862759113652,12.100551515151516,12.089299016772701,12.085686766772458,12.08078976640712,12.01694034523687,12.0080352,11.993605691448899,11.98374,11.943577788894446,11.927626470588235,11.915032657329473,11.91467413931145],\"x\":[-8368726.919044335,-8365657.284085712,-8368475.782273105,-8363801.365535206,-8374674.496798439,-8367173.232911334,-8355689.180282627,-8368130.580532156,-8364408.27939901,-8375707.207714529,-8368561.053003053,-8365296.497616051,-8366420.60183408,-8356059.651547987,-8366001.372631753,-8365765.15267229,-8374473.676437048,-8361388.181613789,-8374961.7010846855,-8361690.191392313,-8366927.773434136,-8375780.567258962,-8352730.8648147965,-8364779.863859279,-8364399.373839747,-8375372.4700057125,-8374156.193249306,-8375359.779583762,-8366552.626750161,-8347004.367569409,-8362961.45997717,-8373982.200885196,-8358943.160318007,-8375545.683133386,-8366358.0402802555,-8365086.103778451,-8365486.742625816,-8369401.8491170155,-8367173.232911334,-8374168.883671257,-8365940.480870289,-8359871.787510205,-8362747.837874339,-8367608.158161863,-8366817.567138251,-8360124.928032267,-8360221.887308748,-8369344.074301294,-8358885.608141265,-8364581.158568213],\"y\":[4872424.675703632,4874392.4446313735,4866727.895790993,4870198.808915011,4862496.678541381,4858382.266923915,4870175.984337144,4859295.804029945,4864350.892320638,4853081.169718544,4862427.386502943,4863656.120858111,4857851.115162213,4870174.530544152,4864256.015809555,4873141.147921969,4863899.328924191,4864060.308627911,4864409.300669772,4865537.579145998,4874386.336104729,4859752.53148052,4869474.553975311,4871713.780532153,4869611.928657591,4854663.349239547,4864916.3925754065,4853278.25715087,4873826.840117542,4879240.311459483,4873540.341532764,4857060.829005006,4871537.845844783,4855478.55810987,4867107.647163959,4869342.5597768305,4870447.120456153,4855994.630342461,4858382.266923915,4857226.63433798,4864023.55039695,4867123.633954687,4872517.594589099,4872312.708876621,4856090.734517337,4871736.172443595,4872174.569728689,4862662.284114471,4869149.368792286,4864197.898945952]},\"selected\":{\"id\":\"3498\",\"type\":\"Selection\"},\"selection_policy\":{\"id\":\"3499\",\"type\":\"UnionRenderers\"}},\"id\":\"3329\",\"type\":\"ColumnDataSource\"},{\"attributes\":{\"dimension\":\"lat\"},\"id\":\"3350\",\"type\":\"MercatorTicker\"},{\"attributes\":{\"attribution\":\"&copy; <a href=\\\"https://www.openstreetmap.org/copyright\\\">OpenStreetMap</a> contributors,&copy; <a href=\\\"https://cartodb.com/attributions\\\">CartoDB</a>\",\"url\":\"https://tiles.basemaps.cartocdn.com/light_all/{z}/{x}/{y}.png\"},\"id\":\"3328\",\"type\":\"WMTSTileSource\"},{\"attributes\":{\"tile_source\":{\"id\":\"3328\",\"type\":\"WMTSTileSource\"}},\"id\":\"3366\",\"type\":\"TileRenderer\"},{\"attributes\":{\"formatter\":{\"id\":\"3352\",\"type\":\"MercatorTickFormatter\"},\"ticker\":{\"id\":\"3350\",\"type\":\"MercatorTicker\"}},\"id\":\"3349\",\"type\":\"MercatorAxis\"},{\"attributes\":{\"callback\":null},\"id\":\"3332\",\"type\":\"DataRange1d\"},{\"attributes\":{\"text\":\"\"},\"id\":\"3492\",\"type\":\"Title\"},{\"attributes\":{\"dimension\":1,\"ticker\":{\"id\":\"3350\",\"type\":\"MercatorTicker\"}},\"id\":\"3357\",\"type\":\"Grid\"},{\"attributes\":{},\"id\":\"3499\",\"type\":\"UnionRenderers\"},{\"attributes\":{},\"id\":\"3336\",\"type\":\"LinearScale\"},{\"attributes\":{\"formatter\":{\"id\":\"3343\",\"type\":\"MercatorTickFormatter\"},\"ticker\":{\"id\":\"3341\",\"type\":\"MercatorTicker\"}},\"id\":\"3340\",\"type\":\"MercatorAxis\"},{\"attributes\":{},\"id\":\"3359\",\"type\":\"SaveTool\"},{\"attributes\":{},\"id\":\"3360\",\"type\":\"PanTool\"},{\"attributes\":{},\"id\":\"3338\",\"type\":\"LinearScale\"},{\"attributes\":{\"active_drag\":\"auto\",\"active_inspect\":\"auto\",\"active_multi\":null,\"active_scroll\":\"auto\",\"active_tap\":\"auto\",\"tools\":[{\"id\":\"3330\",\"type\":\"HoverTool\"},{\"id\":\"3358\",\"type\":\"WheelZoomTool\"},{\"id\":\"3359\",\"type\":\"SaveTool\"},{\"id\":\"3360\",\"type\":\"PanTool\"}]},\"id\":\"3361\",\"type\":\"Toolbar\"},{\"attributes\":{\"dimension\":\"lon\"},\"id\":\"3341\",\"type\":\"MercatorTicker\"},{\"attributes\":{\"fill_alpha\":{\"value\":0.1},\"fill_color\":{\"value\":\"#1f77b4\"},\"line_alpha\":{\"value\":0.1},\"line_color\":{\"value\":\"#1f77b4\"},\"size\":{\"field\":\"size\",\"units\":\"screen\"},\"x\":{\"field\":\"x\"},\"y\":{\"field\":\"y\"}},\"id\":\"3370\",\"type\":\"Circle\"},{\"attributes\":{\"callback\":null},\"id\":\"3334\",\"type\":\"DataRange1d\"},{\"attributes\":{\"data_source\":{\"id\":\"3329\",\"type\":\"ColumnDataSource\"},\"glyph\":{\"id\":\"3369\",\"type\":\"Circle\"},\"hover_glyph\":null,\"muted_glyph\":null,\"nonselection_glyph\":{\"id\":\"3370\",\"type\":\"Circle\"},\"selection_glyph\":null,\"view\":{\"id\":\"3372\",\"type\":\"CDSView\"}},\"id\":\"3371\",\"type\":\"GlyphRenderer\"},{\"attributes\":{},\"id\":\"3498\",\"type\":\"Selection\"},{\"attributes\":{\"dimension\":\"lon\"},\"id\":\"3343\",\"type\":\"MercatorTickFormatter\"},{\"attributes\":{\"source\":{\"id\":\"3329\",\"type\":\"ColumnDataSource\"}},\"id\":\"3372\",\"type\":\"CDSView\"}],\"root_ids\":[\"3331\"]},\"title\":\"Bokeh Application\",\"version\":\"1.3.4\"}};\n",
       "  var render_items = [{\"docid\":\"5425e3f8-a606-4b34-a130-2af8c4a4216e\",\"roots\":{\"3331\":\"50249d2b-456b-4eea-aca1-8e7bbe59a0d2\"}}];\n",
       "  root.Bokeh.embed.embed_items_notebook(docs_json, render_items);\n",
       "\n",
       "  }\n",
       "  if (root.Bokeh !== undefined) {\n",
       "    embed_document(root);\n",
       "  } else {\n",
       "    var attempts = 0;\n",
       "    var timer = setInterval(function(root) {\n",
       "      if (root.Bokeh !== undefined) {\n",
       "        embed_document(root);\n",
       "        clearInterval(timer);\n",
       "      }\n",
       "      attempts++;\n",
       "      if (attempts > 100) {\n",
       "        console.log(\"Bokeh: ERROR: Unable to run BokehJS code because BokehJS library is missing\");\n",
       "        clearInterval(timer);\n",
       "      }\n",
       "    }, 10, root)\n",
       "  }\n",
       "})(window);"
      ],
      "application/vnd.bokehjs_exec.v0+json": ""
     },
     "metadata": {
      "application/vnd.bokehjs_exec.v0+json": {
       "id": "3331"
      }
     },
     "output_type": "display_data"
    }
   ],
   "source": [
    "from bokeh.plotting import figure, show, output_notebook\n",
    "from bokeh.tile_providers import CARTODBPOSITRON\n",
    "from bokeh.models import ColumnDataSource, HoverTool\n",
    "\n",
    "source = ColumnDataSource(data=dict(\n",
    "                        x=list(mark_data['coords_x']),\n",
    "                        y=list(mark_data['coords_y']),\n",
    "                        beds=list(mark_data['bedroom']),\n",
    "                        baths=list(mark_data['bathroom']),\n",
    "                        size=list(mark_data['ROI']*100),\n",
    "                        address=list(mark_data['address']),\n",
    "                        price=list(mark_data['price']),\n",
    "                        rent = list(mark_data['predicted_rent']),\n",
    "                        ROI=list(mark_data['ROI'])))\n",
    "hover = HoverTool(tooltips=[\n",
    "        (\"beds\",\"@beds\"),\n",
    "        (\"baths\",\"@baths\"),\n",
    "        (\"price\",\"@price\"),\n",
    "        (\"ROI\",\"@ROI\"),\n",
    "        (\"rent\",\"@rent\"),\n",
    "        (\"address\",\"@address\")\n",
    "])\n",
    "\n",
    "p = figure(x_axis_type=\"mercator\",\n",
    "           y_axis_type=\"mercator\",\n",
    "           tools=[hover, 'wheel_zoom','save','pan'])\n",
    "\n",
    "p.add_tile(CARTODBPOSITRON)\n",
    "\n",
    "p.circle(x = 'x',\n",
    "         y = 'y',\n",
    "         source=source,\n",
    "         size = 'size',\n",
    "         line_color='blue',\n",
    "         fill_color='navy',\n",
    "         fill_alpha=0.1)\n",
    "output_notebook()\n",
    "show(p)"
   ]
  },
  {
   "cell_type": "markdown",
   "metadata": {},
   "source": [
    "## Final Product\n",
    "\n",
    "A web application that will tell users:\n",
    "- Which city has the highest median ROI for rental property investment\n",
    "- In certain area/city, which listings are the most profitable\n",
    "\n",
    "\n",
    "## Next steps\n",
    "\n",
    "- Fine tune the model - combine different modeling appraoch \n",
    "- Include forecasting using history data to take appreciation into consideration\n",
    "- Build web application\n"
   ]
  },
  {
   "cell_type": "code",
   "execution_count": null,
   "metadata": {},
   "outputs": [],
   "source": []
  }
 ],
 "metadata": {
  "kernelspec": {
   "display_name": "Python 3",
   "language": "python",
   "name": "python3"
  },
  "language_info": {
   "codemirror_mode": {
    "name": "ipython",
    "version": 3
   },
   "file_extension": ".py",
   "mimetype": "text/x-python",
   "name": "python",
   "nbconvert_exporter": "python",
   "pygments_lexer": "ipython3",
   "version": "3.7.4"
  }
 },
 "nbformat": 4,
 "nbformat_minor": 2
}
