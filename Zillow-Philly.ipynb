{
 "cells": [
  {
   "cell_type": "markdown",
   "metadata": {},
   "source": [
    "# Predicting Rental Profit "
   ]
  },
  {
   "cell_type": "markdown",
   "metadata": {},
   "source": [
    "## 1. Introduction\n",
    "\n",
    "The objective of my project is to provide guidance to purchase a rental property as investment. This notebook demonstrates how to predict rental profit, with a subset of listings on zillow.com in the city of Philadelphia. The preliminary analysis of this small dataset showcases the feasibility of the project. The planned final product is a website showing estimated rental profit for all active sales listing in several major cities on zillow.com, and make recommendations based on user's preference."
   ]
  },
  {
   "cell_type": "markdown",
   "metadata": {},
   "source": [
    "## 2. Packages"
   ]
  },
  {
   "cell_type": "code",
   "execution_count": 369,
   "metadata": {},
   "outputs": [],
   "source": [
    "import pandas as pd\n",
    "import numpy as np\n",
    "import matplotlib.pyplot as plt\n",
    "from sklearn.linear_model import LinearRegression\n",
    "from sklearn.model_selection import train_test_split\n",
    "from sklearn.preprocessing import StandardScaler"
   ]
  },
  {
   "cell_type": "markdown",
   "metadata": {},
   "source": [
    "## 3. Data Collection\n",
    "\n",
    "- Write the list of zipcode in Philly into a file as preparation for scraper"
   ]
  },
  {
   "cell_type": "code",
   "execution_count": 3,
   "metadata": {},
   "outputs": [],
   "source": [
    "zip_list = []\n",
    "with open('philly_zipcode','w') as f:\n",
    "    for x in range(19102, 19155):\n",
    "        zip_list.append(x)\n",
    "        f.write(str(x)+'\\n')"
   ]
  },
  {
   "cell_type": "markdown",
   "metadata": {},
   "source": [
    "- Run scraper code to collect all data files\n",
    "- Listings in each zipcode area are in one file"
   ]
  },
  {
   "cell_type": "code",
   "execution_count": 40,
   "metadata": {},
   "outputs": [],
   "source": [
    "f_list = [line.rstrip('\\n') for line in open('Data/file_list')]\n",
    "f_list_rent = f_list[1:50]\n",
    "f_list_sale = f_list[50:]"
   ]
  },
  {
   "cell_type": "markdown",
   "metadata": {},
   "source": [
    "- Read sales data"
   ]
  },
  {
   "cell_type": "code",
   "execution_count": 341,
   "metadata": {},
   "outputs": [
    {
     "data": {
      "text/html": [
       "<div>\n",
       "<style scoped>\n",
       "    .dataframe tbody tr th:only-of-type {\n",
       "        vertical-align: middle;\n",
       "    }\n",
       "\n",
       "    .dataframe tbody tr th {\n",
       "        vertical-align: top;\n",
       "    }\n",
       "\n",
       "    .dataframe thead th {\n",
       "        text-align: right;\n",
       "    }\n",
       "</style>\n",
       "<table border=\"1\" class=\"dataframe\">\n",
       "  <thead>\n",
       "    <tr style=\"text-align: right;\">\n",
       "      <th></th>\n",
       "      <th>title</th>\n",
       "      <th>address</th>\n",
       "      <th>city</th>\n",
       "      <th>state</th>\n",
       "      <th>postal_code</th>\n",
       "      <th>price</th>\n",
       "      <th>bedroom</th>\n",
       "      <th>bathroom</th>\n",
       "      <th>area</th>\n",
       "      <th>lot_size</th>\n",
       "      <th>year_built</th>\n",
       "      <th>home_type</th>\n",
       "      <th>tax_assessed_value</th>\n",
       "      <th>url</th>\n",
       "    </tr>\n",
       "  </thead>\n",
       "  <tbody>\n",
       "    <tr>\n",
       "      <td>0</td>\n",
       "      <td>House for sale</td>\n",
       "      <td>50 S 16th St UNIT 4604</td>\n",
       "      <td>Philadelphia</td>\n",
       "      <td>PA</td>\n",
       "      <td>19102</td>\n",
       "      <td>$11,500,000</td>\n",
       "      <td>2.0</td>\n",
       "      <td>4.0</td>\n",
       "      <td>5550.0</td>\n",
       "      <td>-1.0</td>\n",
       "      <td>2007</td>\n",
       "      <td>SINGLE_FAMILY</td>\n",
       "      <td>7800000.0</td>\n",
       "      <td>https://www.zillow.com/homedetails/50-S-16th-S...</td>\n",
       "    </tr>\n",
       "    <tr>\n",
       "      <td>1</td>\n",
       "      <td>Condo for sale</td>\n",
       "      <td>111 S 15th St PENTHOUSE P310</td>\n",
       "      <td>Philadelphia</td>\n",
       "      <td>PA</td>\n",
       "      <td>19102</td>\n",
       "      <td>$549,000</td>\n",
       "      <td>2.0</td>\n",
       "      <td>2.0</td>\n",
       "      <td>1062.0</td>\n",
       "      <td>-1.0</td>\n",
       "      <td>1900</td>\n",
       "      <td>CONDO</td>\n",
       "      <td>407600.0</td>\n",
       "      <td>https://www.zillow.com/homedetails/111-S-15th-...</td>\n",
       "    </tr>\n",
       "    <tr>\n",
       "      <td>2</td>\n",
       "      <td>Condo for sale</td>\n",
       "      <td>50 S 16th St UNIT 5105</td>\n",
       "      <td>Philadelphia</td>\n",
       "      <td>PA</td>\n",
       "      <td>19102</td>\n",
       "      <td>$1,435,000</td>\n",
       "      <td>3.0</td>\n",
       "      <td>4.0</td>\n",
       "      <td>1722.0</td>\n",
       "      <td>-1.0</td>\n",
       "      <td>2016</td>\n",
       "      <td>CONDO</td>\n",
       "      <td>1170600.0</td>\n",
       "      <td>https://www.zillow.com/homedetails/50-S-16th-S...</td>\n",
       "    </tr>\n",
       "  </tbody>\n",
       "</table>\n",
       "</div>"
      ],
      "text/plain": [
       "            title                       address          city state  \\\n",
       "0  House for sale        50 S 16th St UNIT 4604  Philadelphia    PA   \n",
       "1  Condo for sale  111 S 15th St PENTHOUSE P310  Philadelphia    PA   \n",
       "2  Condo for sale        50 S 16th St UNIT 5105  Philadelphia    PA   \n",
       "\n",
       "   postal_code        price  bedroom  bathroom    area  lot_size  year_built  \\\n",
       "0        19102  $11,500,000      2.0       4.0  5550.0      -1.0        2007   \n",
       "1        19102     $549,000      2.0       2.0  1062.0      -1.0        1900   \n",
       "2        19102   $1,435,000      3.0       4.0  1722.0      -1.0        2016   \n",
       "\n",
       "       home_type  tax_assessed_value  \\\n",
       "0  SINGLE_FAMILY           7800000.0   \n",
       "1          CONDO            407600.0   \n",
       "2          CONDO           1170600.0   \n",
       "\n",
       "                                                 url  \n",
       "0  https://www.zillow.com/homedetails/50-S-16th-S...  \n",
       "1  https://www.zillow.com/homedetails/111-S-15th-...  \n",
       "2  https://www.zillow.com/homedetails/50-S-16th-S...  "
      ]
     },
     "execution_count": 341,
     "metadata": {},
     "output_type": "execute_result"
    }
   ],
   "source": [
    "df_from_each_file_sale = (pd.read_csv('Data/'+str(i)) for i in f_list_sale)\n",
    "sale_data = pd.concat(df_from_each_file_sale, ignore_index=True)\n",
    "sale_data.head(3)"
   ]
  },
  {
   "cell_type": "code",
   "execution_count": 342,
   "metadata": {},
   "outputs": [
    {
     "data": {
      "text/html": [
       "<div>\n",
       "<style scoped>\n",
       "    .dataframe tbody tr th:only-of-type {\n",
       "        vertical-align: middle;\n",
       "    }\n",
       "\n",
       "    .dataframe tbody tr th {\n",
       "        vertical-align: top;\n",
       "    }\n",
       "\n",
       "    .dataframe thead th {\n",
       "        text-align: right;\n",
       "    }\n",
       "</style>\n",
       "<table border=\"1\" class=\"dataframe\">\n",
       "  <thead>\n",
       "    <tr style=\"text-align: right;\">\n",
       "      <th></th>\n",
       "      <th>title</th>\n",
       "      <th>address</th>\n",
       "      <th>city</th>\n",
       "      <th>state</th>\n",
       "      <th>postal_code</th>\n",
       "      <th>price</th>\n",
       "      <th>bedroom</th>\n",
       "      <th>bathroom</th>\n",
       "      <th>area</th>\n",
       "      <th>year_built</th>\n",
       "      <th>lot_size</th>\n",
       "      <th>home_type</th>\n",
       "    </tr>\n",
       "  </thead>\n",
       "  <tbody>\n",
       "    <tr>\n",
       "      <td>0</td>\n",
       "      <td>Apartment for rent</td>\n",
       "      <td>201-50 S 15th St # 606</td>\n",
       "      <td>Philadelphia</td>\n",
       "      <td>PA</td>\n",
       "      <td>19102</td>\n",
       "      <td>$1,365/mo</td>\n",
       "      <td>0.0</td>\n",
       "      <td>1.0</td>\n",
       "      <td>1100.0</td>\n",
       "      <td>-1</td>\n",
       "      <td>-1.0</td>\n",
       "      <td>APARTMENT</td>\n",
       "    </tr>\n",
       "    <tr>\n",
       "      <td>1</td>\n",
       "      <td>Apartment for rent</td>\n",
       "      <td>1429 Spruce St APT 2M</td>\n",
       "      <td>Philadelphia</td>\n",
       "      <td>PA</td>\n",
       "      <td>19102</td>\n",
       "      <td>$1,150/mo</td>\n",
       "      <td>0.0</td>\n",
       "      <td>1.0</td>\n",
       "      <td>1100.0</td>\n",
       "      <td>-1</td>\n",
       "      <td>-1.0</td>\n",
       "      <td>MULTI_FAMILY</td>\n",
       "    </tr>\n",
       "    <tr>\n",
       "      <td>2</td>\n",
       "      <td>Apartment for rent</td>\n",
       "      <td>260 S 16th St APT 2F</td>\n",
       "      <td>Philadelphia</td>\n",
       "      <td>PA</td>\n",
       "      <td>19102</td>\n",
       "      <td>$2,500/mo</td>\n",
       "      <td>1.0</td>\n",
       "      <td>1.0</td>\n",
       "      <td>900.0</td>\n",
       "      <td>1860</td>\n",
       "      <td>-1.0</td>\n",
       "      <td>APARTMENT</td>\n",
       "    </tr>\n",
       "  </tbody>\n",
       "</table>\n",
       "</div>"
      ],
      "text/plain": [
       "                title                 address          city state  \\\n",
       "0  Apartment for rent  201-50 S 15th St # 606  Philadelphia    PA   \n",
       "1  Apartment for rent   1429 Spruce St APT 2M  Philadelphia    PA   \n",
       "2  Apartment for rent    260 S 16th St APT 2F  Philadelphia    PA   \n",
       "\n",
       "   postal_code      price  bedroom  bathroom    area  year_built  lot_size  \\\n",
       "0        19102  $1,365/mo      0.0       1.0  1100.0          -1      -1.0   \n",
       "1        19102  $1,150/mo      0.0       1.0  1100.0          -1      -1.0   \n",
       "2        19102  $2,500/mo      1.0       1.0   900.0        1860      -1.0   \n",
       "\n",
       "      home_type  \n",
       "0     APARTMENT  \n",
       "1  MULTI_FAMILY  \n",
       "2     APARTMENT  "
      ]
     },
     "execution_count": 342,
     "metadata": {},
     "output_type": "execute_result"
    }
   ],
   "source": [
    "df_from_each_file_rent = (pd.read_csv('Data/'+str(i)) for i in f_list_rent)\n",
    "rent_data = pd.concat(df_from_each_file_rent, ignore_index=True)\n",
    "rent_data = rent_data.dropna(subset = ['price'])\n",
    "rent_data.head(3)"
   ]
  },
  {
   "cell_type": "markdown",
   "metadata": {},
   "source": [
    "## 4. Data Preprocessing\n"
   ]
  },
  {
   "cell_type": "markdown",
   "metadata": {},
   "source": [
    "- Rental Listings are used for building a predictive model\n",
    "- Rental listings that are off market are dropped\n",
    "- Missing values in the features: bedroom, bathroom, area, and year are filled with median, and the missing lot_size is filled with area"
   ]
  },
  {
   "cell_type": "code",
   "execution_count": null,
   "metadata": {},
   "outputs": [],
   "source": [
    "rent_data = rent_data[~rent_data['title'].str.contains('Off market')]\n",
    "rent_data['bedroom'] = rent_data['bedroom'].fillna((rent_data['bedroom'].median()))\n",
    "rent_data['bathroom'] = rent_data['bathroom'].fillna((rent_data['bathroom'].median()))\n",
    "rent_data['area'] = rent_data['area'].fillna((rent_data['area'].median()))\n",
    "rent_data['year_built'] = rent_data['year_built'].fillna((rent_data['year_built'].median()))\n",
    "rent_data['lot_size'] = rent_data['lot_size'].fillna((rent_data['area']))\n",
    "rent_select = rent_data[['bedroom', 'bathroom', 'area','postal_code','year_built','home_type','price']]"
   ]
  },
  {
   "cell_type": "markdown",
   "metadata": {},
   "source": [
    "- zipcode and home type are one-hot encoded"
   ]
  },
  {
   "cell_type": "code",
   "execution_count": 238,
   "metadata": {},
   "outputs": [],
   "source": [
    "zip_dummy = pd.get_dummies(rent_select['postal_code'])\n",
    "home_type_dummy = pd.get_dummies(rent_select['home_type'])\n",
    "X_rent = pd.concat([rent_select, zip_dummy, home_type_dummy], axis=1)\n",
    "X_rent = X_rent.drop(columns = ['home_type','postal_code'])"
   ]
  },
  {
   "cell_type": "markdown",
   "metadata": {},
   "source": [
    "- year built feature shows -1 when the data is missing from the website, this can introduce bias\n",
    "- replace the -1 value with median"
   ]
  },
  {
   "cell_type": "code",
   "execution_count": 247,
   "metadata": {},
   "outputs": [],
   "source": [
    "median_year = np.median(X_rent['year_built'][X_rent['year_built']>-1])\n",
    "X_rent['year_built'][X_rent['year_built']<0] = median_year"
   ]
  },
  {
   "cell_type": "code",
   "execution_count": 343,
   "metadata": {},
   "outputs": [
    {
     "data": {
      "text/html": [
       "<div>\n",
       "<style scoped>\n",
       "    .dataframe tbody tr th:only-of-type {\n",
       "        vertical-align: middle;\n",
       "    }\n",
       "\n",
       "    .dataframe tbody tr th {\n",
       "        vertical-align: top;\n",
       "    }\n",
       "\n",
       "    .dataframe thead th {\n",
       "        text-align: right;\n",
       "    }\n",
       "</style>\n",
       "<table border=\"1\" class=\"dataframe\">\n",
       "  <thead>\n",
       "    <tr style=\"text-align: right;\">\n",
       "      <th></th>\n",
       "      <th>bedroom</th>\n",
       "      <th>bathroom</th>\n",
       "      <th>area</th>\n",
       "      <th>year_built</th>\n",
       "      <th>19102</th>\n",
       "      <th>19103</th>\n",
       "      <th>19104</th>\n",
       "      <th>19106</th>\n",
       "      <th>19107</th>\n",
       "      <th>19111</th>\n",
       "      <th>...</th>\n",
       "      <th>95123</th>\n",
       "      <th>95124</th>\n",
       "      <th>95126</th>\n",
       "      <th>95127</th>\n",
       "      <th>95240</th>\n",
       "      <th>APARTMENT</th>\n",
       "      <th>CONDO</th>\n",
       "      <th>MULTI_FAMILY</th>\n",
       "      <th>SINGLE_FAMILY</th>\n",
       "      <th>TOWNHOUSE</th>\n",
       "    </tr>\n",
       "  </thead>\n",
       "  <tbody>\n",
       "    <tr>\n",
       "      <td>0</td>\n",
       "      <td>0.0</td>\n",
       "      <td>1.0</td>\n",
       "      <td>1100.0</td>\n",
       "      <td>1930</td>\n",
       "      <td>1</td>\n",
       "      <td>0</td>\n",
       "      <td>0</td>\n",
       "      <td>0</td>\n",
       "      <td>0</td>\n",
       "      <td>0</td>\n",
       "      <td>...</td>\n",
       "      <td>0</td>\n",
       "      <td>0</td>\n",
       "      <td>0</td>\n",
       "      <td>0</td>\n",
       "      <td>0</td>\n",
       "      <td>1</td>\n",
       "      <td>0</td>\n",
       "      <td>0</td>\n",
       "      <td>0</td>\n",
       "      <td>0</td>\n",
       "    </tr>\n",
       "    <tr>\n",
       "      <td>1</td>\n",
       "      <td>0.0</td>\n",
       "      <td>1.0</td>\n",
       "      <td>1100.0</td>\n",
       "      <td>1930</td>\n",
       "      <td>1</td>\n",
       "      <td>0</td>\n",
       "      <td>0</td>\n",
       "      <td>0</td>\n",
       "      <td>0</td>\n",
       "      <td>0</td>\n",
       "      <td>...</td>\n",
       "      <td>0</td>\n",
       "      <td>0</td>\n",
       "      <td>0</td>\n",
       "      <td>0</td>\n",
       "      <td>0</td>\n",
       "      <td>0</td>\n",
       "      <td>0</td>\n",
       "      <td>1</td>\n",
       "      <td>0</td>\n",
       "      <td>0</td>\n",
       "    </tr>\n",
       "    <tr>\n",
       "      <td>2</td>\n",
       "      <td>1.0</td>\n",
       "      <td>1.0</td>\n",
       "      <td>900.0</td>\n",
       "      <td>1860</td>\n",
       "      <td>1</td>\n",
       "      <td>0</td>\n",
       "      <td>0</td>\n",
       "      <td>0</td>\n",
       "      <td>0</td>\n",
       "      <td>0</td>\n",
       "      <td>...</td>\n",
       "      <td>0</td>\n",
       "      <td>0</td>\n",
       "      <td>0</td>\n",
       "      <td>0</td>\n",
       "      <td>0</td>\n",
       "      <td>1</td>\n",
       "      <td>0</td>\n",
       "      <td>0</td>\n",
       "      <td>0</td>\n",
       "      <td>0</td>\n",
       "    </tr>\n",
       "  </tbody>\n",
       "</table>\n",
       "<p>3 rows × 83 columns</p>\n",
       "</div>"
      ],
      "text/plain": [
       "   bedroom  bathroom    area  year_built  19102  19103  19104  19106  19107  \\\n",
       "0      0.0       1.0  1100.0        1930      1      0      0      0      0   \n",
       "1      0.0       1.0  1100.0        1930      1      0      0      0      0   \n",
       "2      1.0       1.0   900.0        1860      1      0      0      0      0   \n",
       "\n",
       "   19111  ...  95123  95124  95126  95127  95240  APARTMENT  CONDO  \\\n",
       "0      0  ...      0      0      0      0      0          1      0   \n",
       "1      0  ...      0      0      0      0      0          0      0   \n",
       "2      0  ...      0      0      0      0      0          1      0   \n",
       "\n",
       "   MULTI_FAMILY  SINGLE_FAMILY  TOWNHOUSE  \n",
       "0             0              0          0  \n",
       "1             1              0          0  \n",
       "2             0              0          0  \n",
       "\n",
       "[3 rows x 83 columns]"
      ]
     },
     "execution_count": 343,
     "metadata": {},
     "output_type": "execute_result"
    }
   ],
   "source": [
    "X_rent.head(3)"
   ]
  },
  {
   "cell_type": "code",
   "execution_count": 391,
   "metadata": {},
   "outputs": [
    {
     "data": {
      "text/plain": [
       "<matplotlib.axes._subplots.AxesSubplot at 0x1a2befe690>"
      ]
     },
     "execution_count": 391,
     "metadata": {},
     "output_type": "execute_result"
    },
    {
     "data": {
      "image/png": "[encoded data removed]",
      "text/plain": [
       "<Figure size 432x288 with 1 Axes>"
      ]
     },
     "metadata": {
      "needs_background": "light"
     },
     "output_type": "display_data"
    }
   ],
   "source": [
    "X_rent['area'].hist(range=(0,4000))"
   ]
  },
  {
   "cell_type": "code",
   "execution_count": 388,
   "metadata": {},
   "outputs": [
    {
     "data": {
      "text/plain": [
       "<matplotlib.axes._subplots.AxesSubplot at 0x1a2c21df50>"
      ]
     },
     "execution_count": 388,
     "metadata": {},
     "output_type": "execute_result"
    },
    {
     "data": {
      "image/png": "[encoded data removed]",
      "text/plain": [
       "<Figure size 432x288 with 1 Axes>"
      ]
     },
     "metadata": {
      "needs_background": "light"
     },
     "output_type": "display_data"
    }
   ],
   "source": [
    "X_rent['year_built'].hist(range = (1800,2020))"
   ]
  },
  {
   "cell_type": "markdown",
   "metadata": {},
   "source": [
    "- Prepare the target variable,price"
   ]
  },
  {
   "cell_type": "code",
   "execution_count": 243,
   "metadata": {},
   "outputs": [],
   "source": [
    "y_rent = X_rent['price'].apply(lambda x: int(x.strip('$+/mo').replace(',','')))\n",
    "y_rent = y_rent.values\n",
    "X_rent = X_rent.drop(columns = 'price')\n",
    "X = X_rent.values\n",
    "y = y_rent"
   ]
  },
  {
   "cell_type": "markdown",
   "metadata": {},
   "source": [
    "- Split the data into train and test set for model building"
   ]
  },
  {
   "cell_type": "code",
   "execution_count": 370,
   "metadata": {},
   "outputs": [],
   "source": []
  },
  {
   "cell_type": "code",
   "execution_count": 392,
   "metadata": {},
   "outputs": [],
   "source": [
    "X_train, X_test, y_train, y_test = train_test_split(X, y)"
   ]
  },
  {
   "cell_type": "markdown",
   "metadata": {},
   "source": [
    "## 5. Modelling"
   ]
  },
  {
   "cell_type": "markdown",
   "metadata": {},
   "source": [
    "### 5.1 Linear Models"
   ]
  },
  {
   "cell_type": "code",
   "execution_count": 346,
   "metadata": {},
   "outputs": [],
   "source": [
    "import sklearn.metrics as metrics\n",
    "from sklearn.linear_model import LinearRegression\n",
    "from sklearn.linear_model import Ridge\n",
    "from sklearn.linear_model import Lasso"
   ]
  },
  {
   "cell_type": "markdown",
   "metadata": {},
   "source": [
    "#### 5.1.1 Linear Regression"
   ]
  },
  {
   "cell_type": "code",
   "execution_count": 393,
   "metadata": {},
   "outputs": [
    {
     "name": "stdout",
     "output_type": "stream",
     "text": [
      "In sample R^2 is 0.6965428617398637\n",
      "Out of sample R^2 is -247019467160.26135\n"
     ]
    }
   ],
   "source": [
    "lm = LinearRegression()\n",
    "lm.fit(X_train, y_train)\n",
    "y_train_pred = lm.predict(X_train)\n",
    "y_test_pred = lm.predict(X_test)\n",
    "print('In sample R^2 is {}'.format(metrics.r2_score(y_train, y_train_pred)))\n",
    "print('Out of sample R^2 is {}'.format(metrics.r2_score(y_test, y_test_pred)))"
   ]
  },
  {
   "cell_type": "markdown",
   "metadata": {},
   "source": [
    "#### 5.1.2 Ridge Regression"
   ]
  },
  {
   "cell_type": "code",
   "execution_count": 394,
   "metadata": {},
   "outputs": [
    {
     "name": "stdout",
     "output_type": "stream",
     "text": [
      "alpha 1e-06 0.6234850219234774\n",
      "alpha 1e-05 0.6234850357815982\n",
      "alpha 0.0001 0.6234851730086317\n",
      "alpha 0.001 0.6234865252982775\n",
      "alpha 0.01 0.623498088228211\n",
      "alpha 0.1 0.6234438014897352\n",
      "alpha 1 0.6171409389971125\n"
     ]
    }
   ],
   "source": [
    "for alpha in [0.000001, 0.00001, 0.0001, 0.001, 0.01, 0.1, 1]:\n",
    "    ridge = Ridge(alpha = alpha)\n",
    "    ridge.fit(X_train, y_train)\n",
    "    y_train_pred_ridge = ridge.predict(X_train)\n",
    "    y_test_pred_ridge = ridge.predict(X_test)\n",
    "    print('alpha', alpha, metrics.r2_score(y_test, y_test_pred_ridge))"
   ]
  },
  {
   "cell_type": "code",
   "execution_count": 395,
   "metadata": {},
   "outputs": [
    {
     "name": "stdout",
     "output_type": "stream",
     "text": [
      "In sample R^2 is 0.696542863889695\n",
      "Out of sample R^2 is 0.6234851730086317\n"
     ]
    }
   ],
   "source": [
    "ridge = Ridge(alpha = 1e-4)\n",
    "ridge.fit(X_train, y_train)\n",
    "y_train_pred_ridge = ridge.predict(X_train)\n",
    "y_test_pred_ridge = ridge.predict(X_test)\n",
    "print('In sample R^2 is {}'.format(metrics.r2_score(y_train, y_train_pred_ridge)))\n",
    "print('Out of sample R^2 is {}'.format(metrics.r2_score(y_test, y_test_pred_ridge)))"
   ]
  },
  {
   "cell_type": "markdown",
   "metadata": {},
   "source": [
    "#### 5.1.2  LASSO Regression"
   ]
  },
  {
   "cell_type": "code",
   "execution_count": 396,
   "metadata": {},
   "outputs": [
    {
     "name": "stdout",
     "output_type": "stream",
     "text": [
      "alpha 0.01 0.5961972801734444\n",
      "alpha 0.1 0.60458262521746\n",
      "alpha 1 0.6003354257590627\n",
      "alpha 10 0.45498672867887\n"
     ]
    },
    {
     "name": "stderr",
     "output_type": "stream",
     "text": [
      "/opt/anaconda3/lib/python3.7/site-packages/sklearn/linear_model/coordinate_descent.py:475: ConvergenceWarning: Objective did not converge. You might want to increase the number of iterations. Duality gap: 1929146.544755742, tolerance: 48297.26754087513\n",
      "  positive)\n"
     ]
    }
   ],
   "source": [
    "for alpha in [ 0.01, 0.1, 1,10]:\n",
    "    lasso = Lasso(alpha = alpha)\n",
    "    lasso.fit(X_train, y_train)\n",
    "    y_train_pred_lasso = lasso.predict(X_train)\n",
    "    y_test_pred_lasso = lasso.predict(X_test)\n",
    "    print('alpha', alpha, metrics.r2_score(y_test, y_test_pred_lasso))"
   ]
  },
  {
   "cell_type": "code",
   "execution_count": 397,
   "metadata": {},
   "outputs": [
    {
     "name": "stdout",
     "output_type": "stream",
     "text": [
      "In sample R^2 is 0.6549035641722001\n",
      "Out of sample R^2 is 0.6003354257590627\n"
     ]
    }
   ],
   "source": [
    "lasso = Lasso(alpha=1)\n",
    "lasso.fit(X_train, y_train)\n",
    "y_train_pred_lasso = lasso.predict(X_train)\n",
    "y_test_pred_lasso = lasso.predict(X_test)\n",
    "print('In sample R^2 is {}'.format(metrics.r2_score(y_train, y_train_pred_lasso)))\n",
    "print('Out of sample R^2 is {}'.format(metrics.r2_score(y_test, y_test_pred_lasso)))"
   ]
  },
  {
   "cell_type": "code",
   "execution_count": 410,
   "metadata": {},
   "outputs": [
    {
     "data": {
      "image/png": "[encoded data removed]",
      "text/plain": [
       "<Figure size 400x400 with 1 Axes>"
      ]
     },
     "metadata": {
      "needs_background": "light"
     },
     "output_type": "display_data"
    }
   ],
   "source": [
    "plt.figure(figsize=(4,4), dpi=100)\n",
    "plt.scatter(y_test,y_test_pred_ridge, s = 10)\n",
    "plt.xlim([0,5000])\n",
    "plt.ylim([0,5000])\n",
    "plt.xlabel('Listed rental price')\n",
    "plt.ylabel('Ridge regression predicted rental price')\n",
    "plt.show()"
   ]
  },
  {
   "cell_type": "markdown",
   "metadata": {},
   "source": [
    "### 5.1 Nonlinear Models"
   ]
  },
  {
   "cell_type": "markdown",
   "metadata": {},
   "source": [
    "#### 5.1.1 Tree based model"
   ]
  },
  {
   "cell_type": "code",
   "execution_count": 367,
   "metadata": {},
   "outputs": [],
   "source": [
    "from sklearn.ensemble import RandomForestRegressor"
   ]
  },
  {
   "cell_type": "code",
   "execution_count": 438,
   "metadata": {},
   "outputs": [],
   "source": [
    "RF = RandomForestRegressor(n_estimators=80)"
   ]
  },
  {
   "cell_type": "code",
   "execution_count": 439,
   "metadata": {},
   "outputs": [
    {
     "name": "stdout",
     "output_type": "stream",
     "text": [
      "In sample R^2 is 0.9165114513895409\n",
      "Out of sample R^2 is 0.5212073164861446\n"
     ]
    }
   ],
   "source": [
    "RF.fit(X_train, y_train)\n",
    "y_test_pred_RF = RF.predict(X_test)\n",
    "y_train_pred_RF = RF.predict(X_train)\n",
    "print('In sample R^2 is {}'.format(metrics.r2_score(y_train, y_train_pred_RF)))\n",
    "print('Out of sample R^2 is {}'.format(metrics.r2_score(y_test, y_test_pred_RF)))"
   ]
  },
  {
   "cell_type": "code",
   "execution_count": 440,
   "metadata": {},
   "outputs": [
    {
     "data": {
      "image/png": "[encoded data removed]",
      "text/plain": [
       "<Figure size 400x400 with 1 Axes>"
      ]
     },
     "metadata": {
      "needs_background": "light"
     },
     "output_type": "display_data"
    }
   ],
   "source": [
    "plt.figure(figsize=(4,4), dpi=100)\n",
    "plt.scatter(y_test_pred_RF, y_test,s=10)\n",
    "plt.xlim([0,5000])\n",
    "plt.ylim([0,5000])\n",
    "plt.xlabel('Listed rental price')\n",
    "plt.ylabel('Random Forest predicted rental price')\n",
    "plt.show()"
   ]
  },
  {
   "cell_type": "markdown",
   "metadata": {},
   "source": [
    "- Further feature engineering will be conducted\n",
    "- More data will be collected"
   ]
  },
  {
   "cell_type": "markdown",
   "metadata": {},
   "source": [
    "## 6. Use developed model to predict rental price of for-sale listings\n",
    "- to be done...."
   ]
  },
  {
   "cell_type": "code",
   "execution_count": null,
   "metadata": {},
   "outputs": [],
   "source": [
    "scaler = StandardScaler()\n",
    "scaler.fit(X)\n",
    "X_transform = scaler.transform(X)\n",
    "X_train, X_test, y_train, y_test = train_test_split(X, y)"
   ]
  }
 ],
 "metadata": {
  "kernelspec": {
   "display_name": "Python 3",
   "language": "python",
   "name": "python3"
  },
  "language_info": {
   "codemirror_mode": {
    "name": "ipython",
    "version": 3
   },
   "file_extension": ".py",
   "mimetype": "text/x-python",
   "name": "python",
   "nbconvert_exporter": "python",
   "pygments_lexer": "ipython3",
   "version": "3.7.4"
  }
 },
 "nbformat": 4,
 "nbformat_minor": 2
}
